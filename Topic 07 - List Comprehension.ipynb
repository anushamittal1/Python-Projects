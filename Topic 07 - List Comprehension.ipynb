{
 "cells": [
  {
   "cell_type": "markdown",
   "metadata": {},
   "source": [
    "# List Comprehension\n",
    "\n",
    "Python allows us to create lists in a new way that's a little weird.  But it turns out to be useful!"
   ]
  },
  {
   "cell_type": "code",
   "execution_count": null,
   "metadata": {},
   "outputs": [],
   "source": []
  },
  {
   "cell_type": "markdown",
   "metadata": {},
   "source": [
    "Create a list of all the square numbers from 1 to 100"
   ]
  },
  {
   "cell_type": "code",
   "execution_count": null,
   "metadata": {},
   "outputs": [],
   "source": [
    "# the old way of doing it:\n",
    "sqlist = []\n",
    "for i in range(1,11):\n",
    "    sqlist.append(i**2)\n",
    "sqlist"
   ]
  },
  {
   "cell_type": "code",
   "execution_count": null,
   "metadata": {},
   "outputs": [],
   "source": [
    "# the new way of doing it:\n",
    "sqlist2 = [i**2 for i in range(1,11)]\n",
    "sqlist2"
   ]
  },
  {
   "cell_type": "code",
   "execution_count": null,
   "metadata": {},
   "outputs": [],
   "source": []
  },
  {
   "cell_type": "code",
   "execution_count": null,
   "metadata": {},
   "outputs": [],
   "source": [
    "# we can also include conditionals!\n",
    "sqlist3 = [i**2 for i in range(1,11000) if i**2 <= 100]\n",
    "sqlist3"
   ]
  },
  {
   "cell_type": "markdown",
   "metadata": {},
   "source": [
    "## **Class Participation**\n",
    "\n",
    "Create list of all the even number below 100\n",
    "\n",
    "Do this in 2 ways\n",
    "1. Use the range to only get the even numbers\n",
    "2. Use the range to get all the numbers, but include an if to only get the even numbers"
   ]
  },
  {
   "cell_type": "code",
   "execution_count": null,
   "metadata": {},
   "outputs": [],
   "source": []
  },
  {
   "cell_type": "code",
   "execution_count": null,
   "metadata": {},
   "outputs": [],
   "source": []
  },
  {
   "cell_type": "code",
   "execution_count": null,
   "metadata": {},
   "outputs": [],
   "source": []
  },
  {
   "cell_type": "markdown",
   "metadata": {},
   "source": [
    "Take a string, make a list of strings where each element is the original string without a character. For example, \"Dogs\" => [\"ogs\", \"Dgs\", \"Dos\", \"Dog\"]"
   ]
  },
  {
   "cell_type": "code",
   "execution_count": null,
   "metadata": {},
   "outputs": [],
   "source": [
    "s= \"Hello there!\"\n",
    "#List comprehension\n",
    "num_letters = len(s)\n",
    "delete = [s[:i] + s[i+1:] for i in range(num_letters)]\n",
    "delete"
   ]
  },
  {
   "cell_type": "markdown",
   "metadata": {},
   "source": [
    "Create a poker deck with list of lists. For example, your deck should be [[\"H\", 1], ...[\"H\", 13], ...., [\"C\", 1], ....]"
   ]
  },
  {
   "cell_type": "code",
   "execution_count": null,
   "metadata": {
    "scrolled": true
   },
   "outputs": [],
   "source": [
    "#We can do nested for loops too!\n",
    "\n",
    "# [H,1],...,H[13], [C,1],...,[C,13], [D,1],...,[D,13], [S,1],...,[S,13]\n",
    "suits = [\"Hearts\", \"Diamonds\", \"Clubs\", \"Spades\"]\n",
    "numbers = list(range(2,11))+['Jack','Queen','King','Ace']\n",
    "deck = [[num, suit] for num in numbers for suit in suits]\n",
    "\n",
    "print(deck)"
   ]
  },
  {
   "cell_type": "markdown",
   "metadata": {},
   "source": [
    "Create a list of integers which specify the length of each word in a certain sentence, but only if the word is not the word \"the\"."
   ]
  },
  {
   "cell_type": "code",
   "execution_count": null,
   "metadata": {},
   "outputs": [],
   "source": [
    "# without list comprehension:\n",
    "\n",
    "sentence = \"the quick brown fox jumps over the lazy dog\"\n",
    "words = sentence.split()\n",
    "word_lengths = []\n",
    "for word in words:\n",
    "      if word != \"the\":\n",
    "        word_lengths.append(len(word))\n",
    "print(words)\n",
    "print(word_lengths)"
   ]
  },
  {
   "cell_type": "code",
   "execution_count": null,
   "metadata": {},
   "outputs": [],
   "source": [
    "# with list comprehension:\n",
    "sentence = \"the quick brown fox jumps over the lazy dog\"\n",
    "words = sentence.split()\n",
    "word_lengths = [len(word) for word in words if word != \"the\"]\n",
    "print(words)\n",
    "print(word_lengths)"
   ]
  },
  {
   "cell_type": "code",
   "execution_count": null,
   "metadata": {},
   "outputs": [],
   "source": []
  },
  {
   "cell_type": "markdown",
   "metadata": {},
   "source": [
    "## **Participation**\n",
    "\n",
    "Create a list of all the words that start with the letter a (upper case or lower case) in the following block of text. You need to use a triple-double quote to create the string.\n",
    "\n",
    "Teenager Dorothy Gale lives on a Kansas farm owned by her Uncle Henry and Aunt Em. When Dorothy's Cairn Terrier Toto bites the wealthy Almira Gulch, Gulch obtains a sheriff's order authorizing her to seize the dog to be destroyed. Toto escapes and returns to Dorothy, who runs away to protect him. Professor Marvel, a charlatan fortune-teller, tells Dorothy to go home because Aunt Em is heartbroken. She returns just as a tornado approaches the farm. Unable to get into the locked storm shelter, Dorothy takes cover in the farmhouse and is knocked unconscious as the tornado lifts the house and drops it intact onto an unknown land.\n",
    "\n",
    "Dorothy awakens and is greeted by a good witch named Glinda, who floats down in a pink bubble and explains she is in Munchkinland in the land of Oz, and that the Munchkins are celebrating because the house landed on the Wicked Witch of the East. Her sister, the Wicked Witch of the West, appears in a puff of smoke; before she can seize her deceased sister's ruby slippers, Glinda magically transports them onto Dorothy's feet and tells her to keep them on, as they must be powerful if the Wicked Witch wants them so badly. Because the Wicked Witch has no power in Munchkinland, she leaves in another puff of smoke, but not before telling Dorothy, \"I'll get you, my pretty, and your little dog too!\" Glinda recommends Dorothy follow the yellow brick road to the Emerald City, the home of the Wizard of Oz, as he might know how to help her return home.\n",
    "\n",
    "Along the way, Dorothy meets the Scarecrow, who wants a brain; the Tin Man, who wants a heart; and the Cowardly Lion, who wants courage. The group reaches the Emerald City, despite the efforts of the Wicked Witch. Dorothy is initially denied an audience with the Wizard by his doorman, but the doorman relents after hearing that they were sent by Glinda, and the four are led into the Wizard's chambers. The Wizard appears as a giant ghostly head and tells them he will grant their wishes if they bring him the Wicked Witch's broomstick.\n",
    "\n",
    "During their quest, Dorothy and Toto are captured by flying monkeys and taken to the Wicked Witch, but the ruby slippers protect her and Toto manages to escape, leading the Scarecrow, Tin Man, and Cowardly Lion to the castle. They free Dorothy, but are pursued and finally cornered by the Witch and her guards. The Witch toys with them, setting fire to the Scarecrow. When Dorothy throws a bucket of water onto the Scarecrow, she inadvertently splashes the Witch, causing her to melt away.\n",
    "\n",
    "The Witch's guards gratefully give Dorothy her broomstick, and the four return to the Wizard, but he tells them to return tomorrow. When Toto pulls back a curtain, the \"Wizard\" is revealed to be an ordinary man operating machinery that projects the ghostly image of his face. The four travelers confront the Wizard, who insists that he is a good man at heart, but confesses to being a humbug. He then \"grants\" the wishes of Dorothy's three friends by giving them tokens to confirm that they have the qualities they sought.\n",
    "\n",
    "The Wizard reveals that he, like Dorothy, is from Kansas and accidentally arrived in Oz in a hot air balloon. When he offers to take Dorothy back to Kansas with him aboard his balloon, she accepts, but Toto jumps off and Dorothy goes after him, and the balloon accidentally lifts off with just the Wizard aboard. Glinda reappears and tells Dorothy she always had the power to return to Kansas using the ruby slippers, but had to find that out for herself. After sharing a tearful farewell with her friends, Dorothy heeds Glinda's instructions by tapping her heels three times and repeating the words \"There's no place like home.\"\n",
    "\n",
    "She is transported back to Kansas, where she awakens in her own bed. Aunt Em attends to her while Uncle Henry and the farm hands stand by. Professor Marvel stops in as Dorothy describes Oz, telling the farm hands and the Professor they were there too, and they smile, humoring her. As Dorothy hugs Toto, she gratefully exclaims, \"Oh, Auntie Em, there's no place like home!\" "
   ]
  },
  {
   "cell_type": "code",
   "execution_count": null,
   "metadata": {},
   "outputs": [],
   "source": []
  }
 ],
 "metadata": {
  "kernelspec": {
   "display_name": "Python 3 (ipykernel)",
   "language": "python",
   "name": "python3"
  },
  "language_info": {
   "codemirror_mode": {
    "name": "ipython",
    "version": 3
   },
   "file_extension": ".py",
   "mimetype": "text/x-python",
   "name": "python",
   "nbconvert_exporter": "python",
   "pygments_lexer": "ipython3",
   "version": "3.7.13"
  },
  "toc": {
   "nav_menu": {
    "height": "30px",
    "width": "252px"
   },
   "number_sections": true,
   "sideBar": true,
   "skip_h1_title": false,
   "toc_cell": false,
   "toc_position": {},
   "toc_section_display": "block",
   "toc_window_display": false
  }
 },
 "nbformat": 4,
 "nbformat_minor": 2
}
