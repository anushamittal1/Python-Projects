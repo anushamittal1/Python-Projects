{
 "cells": [
  {
   "cell_type": "markdown",
   "metadata": {},
   "source": [
    "# break, continue, pass\n",
    "\n",
    "We can use <code>break</code>, <code>continue</code>, and <code>pass</code> statements in our loops to add additional functionality for various cases. The three statements are defined by:\n",
    "\n",
    "    break: Breaks out of the current closest enclosing loop.\n",
    "    continue: Goes to the top of the closest enclosing loop.\n",
    "    pass: Does nothing at all.\n",
    "    \n",
    "    \n",
    "Thinking about <code>break</code> and <code>continue</code> statements, the general format of the <code>while</code> loop looks like this:\n",
    "\n",
    "    while test: \n",
    "        code statement\n",
    "        if test: \n",
    "            break\n",
    "        if test: \n",
    "            continue \n",
    "    else:\n",
    "\n",
    "<code>break</code> and <code>continue</code> statements can appear anywhere inside the loop’s body, but we will usually put them further nested in conjunction with an <code>if</code> statement to perform an action based on some condition.\n",
    "\n",
    "Let's go ahead and look at some examples!"
   ]
  },
  {
   "cell_type": "markdown",
   "metadata": {},
   "source": [
    "### Break"
   ]
  },
  {
   "cell_type": "markdown",
   "metadata": {},
   "source": [
    "In Python, the break statement is used to prematurely exit a loop, regardless of whether the loop's condition is still satisfied. When a break statement is encountered within a loop (such as a for loop, while loop, or nested loop), it immediately terminates the loop's execution and transfers control to the code immediately following the loop.\n",
    "\n",
    "Here's how the break statement works in Python:\n",
    "\n",
    "Exiting the Loop: When the break statement is encountered, the loop in which it is placed is exited immediately, and the program continues executing the code after the loop.\n",
    "\n",
    "Use Cases:\n",
    "\n",
    "**Exit Condition**: break is typically used when a certain condition is met, and you want to exit the loop early, even if the loop's original termination condition is not yet met. \n",
    "  \n",
    "**Searching**: It's often used in search algorithms, such as finding an element in a list, where you want to stop searching as soon as you find the desired item.    \n",
    "\n",
    "**User Input**: It can be used to exit a loop based on user input or specific criteria.  "
   ]
  },
  {
   "cell_type": "code",
   "execution_count": null,
   "metadata": {},
   "outputs": [],
   "source": [
    "# Find the first even number in a list\n",
    "\n",
    "numbers = [1, 3, 5, 4, 7, 8, 9, 10]\n",
    "\n",
    "for num in numbers:\n",
    "    if num % 2 == 0:\n",
    "        print(\"Found the first even number:\",num)\n",
    "        break  # Exit the loop as soon as an even number is found"
   ]
  },
  {
   "cell_type": "markdown",
   "metadata": {},
   "source": [
    "In this example, we iterate through the numbers list. When the loop encounters the first even number (4), the break statement is executed, and the loop terminates immediately. As a result, \"Found the first even number: 4\" is printed, and the loop does not continue to iterate through the remaining numbers."
   ]
  },
  {
   "cell_type": "code",
   "execution_count": null,
   "metadata": {},
   "outputs": [],
   "source": [
    "#Check if x is prime. If not give a multiple that is neither 1 nor x.\n",
    "x= 15\n",
    "flag=0\n",
    "for i in range(2,x):\n",
    "    \n",
    "    if x%i ==0:\n",
    "        flag=1\n",
    "        multiple = i\n",
    "        break\n",
    "\n",
    "if flag==0:\n",
    "    print(\"%d is prime\" %x)\n",
    "else:\n",
    "    print(\"%d is not prime since %d is multiple\" %(x, multiple))"
   ]
  },
  {
   "cell_type": "markdown",
   "metadata": {},
   "source": [
    "### Continue"
   ]
  },
  {
   "cell_type": "markdown",
   "metadata": {},
   "source": [
    "In Python, the continue keyword is used within loops (such as for and while loops) to control the flow of the program. When encountered, **the continue keyword immediately terminates the current iteration of the loop and moves on to the next iteration**. This means that any code following the continue statement within the current loop iteration will be skipped, and the loop will continue with the next iteration.\n",
    "\n",
    "Here are a few examples to showcase the usage of the continue keyword:"
   ]
  },
  {
   "cell_type": "code",
   "execution_count": null,
   "metadata": {},
   "outputs": [],
   "source": [
    "# skippping odd numbers:\n",
    "\n",
    "for i in range(1, 11):\n",
    "    if i % 2 == 1:\n",
    "        continue\n",
    "    print(i)"
   ]
  },
  {
   "cell_type": "markdown",
   "metadata": {},
   "source": [
    "In this example, we use a for loop to iterate through numbers from 1 to 10. Inside the loop, we use an if statement to check if the current number (i) is odd (i % 2 == 1). If it is odd, the continue statement is executed, and the loop immediately proceeds to the next iteration without printing the odd number. As a result, only even numbers between 1 and 10 will be printed."
   ]
  },
  {
   "cell_type": "code",
   "execution_count": null,
   "metadata": {},
   "outputs": [],
   "source": [
    "# Skipping Specific Values:\n",
    "\n",
    "numbers = [1, 2, 3, 4, 5, 6, 7, 8, 9, 10]\n",
    "for num in numbers:\n",
    "    if num == 5:\n",
    "        continue\n",
    "    print(num)"
   ]
  },
  {
   "cell_type": "markdown",
   "metadata": {},
   "source": [
    "In this example, we have a list of numbers, and we use a for loop to iterate through them. When the loop encounters the number 5, the continue statement is triggered, skipping the number 5 and moving on to the next iteration. Consequently, all numbers except 5 will be printed."
   ]
  },
  {
   "cell_type": "code",
   "execution_count": null,
   "metadata": {},
   "outputs": [],
   "source": [
    "# Skipping Iterations Based on User Input:\n",
    "while True:\n",
    "    user_input = input(\"Enter a number (or 'q' to quit): \")\n",
    "    \n",
    "    if user_input == 'q':\n",
    "        break  # Exit the loop if the user enters 'q'\n",
    "    \n",
    "    if not user_input.isdigit():\n",
    "        print(\"Invalid input. Please enter a valid number.\")\n",
    "        continue  # Skip the current iteration and ask for input again\n",
    "        \n",
    "    number = int(user_input)\n",
    "    \n",
    "    if number % 2 == 1:\n",
    "        print(number,'is an odd number')\n",
    "        continue  # Skip printing odd numbers\n",
    "\n",
    "    print(number,'is an even number')"
   ]
  },
  {
   "cell_type": "markdown",
   "metadata": {},
   "source": [
    "In this example, we use a while loop to repeatedly ask the user for input. If the user enters 'q', we use the break statement to exit the loop. If the input is not a valid number, we print an error message and use continue to skip the current iteration, prompting the user for input again. If the input is a valid number, we check whether it's odd or even and use continue to skip printing odd numbers, printing only even numbers."
   ]
  },
  {
   "cell_type": "markdown",
   "metadata": {},
   "source": [
    "In summary, the continue keyword is a useful control flow tool in Python that allows you to skip the current iteration of a loop and move on to the next one based on a specific condition."
   ]
  },
  {
   "cell_type": "markdown",
   "metadata": {},
   "source": [
    "### Pass"
   ]
  },
  {
   "cell_type": "markdown",
   "metadata": {},
   "source": [
    "In Python, the **pass** statement is a placeholder statement that does nothing when it is executed. It is used when syntactically a statement is required but you don't want to execute any code. The primary purpose of pass is to serve as a placeholder for future code or to create empty code blocks when you're in the process of developing or designing a program.\n",
    "\n",
    "Here's how the pass statement works:  \n",
    "\n",
    "**Placeholder**: pass is often used as a temporary placeholder when you're writing code and need a valid syntactic element but haven't implemented the actual logic yet. It allows you to write the structure of your program without filling in the details immediately.  \n",
    "\n",
    "\n",
    "**Avoid Syntax Errors**: Without pass, if you leave an empty block where code is expected (e.g., in an if statement, a loop, or a function), Python would raise an error. pass prevents these syntax errors.  \n",
    "\n",
    "\n",
    "**Empty Functions or Classes**: You can also use pass when defining empty functions or classes that you intend to implement later. This is common when designing a program's structure or when creating a placeholder for a method or class that will be filled in with functionality later.  \n",
    "\n",
    "(We will talk about classes on Object Oriented Programming).\n",
    "\n",
    "Here are some examples of how pass can be used:"
   ]
  },
  {
   "cell_type": "code",
   "execution_count": null,
   "metadata": {},
   "outputs": [],
   "source": [
    "##Using pass as a Placeholder\n",
    "\n",
    "x = 5\n",
    "\n",
    "if x > 3:\n",
    "    pass  # Placeholder for future code\n",
    "else:\n",
    "    print(\"Condition is false\")"
   ]
  },
  {
   "cell_type": "markdown",
   "metadata": {},
   "source": [
    "In this example, the if statement requires an indented block of code. pass is used as a placeholder to satisfy the syntax requirements, and you can later replace it with actual code when needed."
   ]
  },
  {
   "cell_type": "code",
   "execution_count": null,
   "metadata": {},
   "outputs": [],
   "source": []
  },
  {
   "cell_type": "markdown",
   "metadata": {},
   "source": [
    "## **Class Participation**\n",
    "\n",
    "Speed up finding the list of prime numbers.  Once you know a number is divisible by something else, stop checking if it's divisible by other numbers.  Put all the primes from 2-200 into a list and print the list."
   ]
  },
  {
   "cell_type": "code",
   "execution_count": null,
   "metadata": {},
   "outputs": [],
   "source": []
  },
  {
   "cell_type": "code",
   "execution_count": null,
   "metadata": {},
   "outputs": [],
   "source": []
  },
  {
   "cell_type": "code",
   "execution_count": null,
   "metadata": {},
   "outputs": [],
   "source": []
  },
  {
   "cell_type": "code",
   "execution_count": null,
   "metadata": {},
   "outputs": [],
   "source": []
  }
 ],
 "metadata": {
  "kernelspec": {
   "display_name": "Python 3 (ipykernel)",
   "language": "python",
   "name": "python3"
  },
  "language_info": {
   "codemirror_mode": {
    "name": "ipython",
    "version": 3
   },
   "file_extension": ".py",
   "mimetype": "text/x-python",
   "name": "python",
   "nbconvert_exporter": "python",
   "pygments_lexer": "ipython3",
   "version": "3.7.13"
  }
 },
 "nbformat": 4,
 "nbformat_minor": 4
}
