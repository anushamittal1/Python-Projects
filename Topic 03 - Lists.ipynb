{
 "cells": [
  {
   "cell_type": "markdown",
   "metadata": {},
   "source": [
    "## Lists\n",
    "\n",
    "Lists are Python's most flexible ordered collection object type.  Unlike strings, lists may be changed in-place.  Python lists are:\n",
    "\n",
    "*Ordered collection of arbitrary objects*: lists are just places to collect other objects.  Lists also maintain a left-to-right positional ordering among the items they contain.\n",
    "\n",
    "*Accessed by offset*: Just as with strings, you can fetch component objects out of a list by indexing the list on the object's offset.  You can also do tasks such as slicing and concatenation.\n",
    "\n",
    "*Variable length, heterogeneous, and arbitrarily nestable*: Unlike strings, lists can grow and shrink in-place, and they can contain any sort of object, not just one character strings.  They also support arbitrary nesting: one can have lists of lists of lists...\n",
    "\n",
    "A list is coded as a series of objects in square brackets, separated by commas."
   ]
  },
  {
   "cell_type": "code",
   "execution_count": null,
   "metadata": {},
   "outputs": [],
   "source": [
    "#Creating a list\n",
    "L= [1,2,'s',4]\n",
    "L"
   ]
  },
  {
   "cell_type": "code",
   "execution_count": null,
   "metadata": {},
   "outputs": [],
   "source": [
    "#Find the length of a list \n",
    "len(L)"
   ]
  },
  {
   "cell_type": "markdown",
   "metadata": {},
   "source": [
    "We can check if an item is in a given list using **in**. The result is a boolean and just like strings, there is also a **not in**.\n"
   ]
  },
  {
   "cell_type": "code",
   "execution_count": null,
   "metadata": {},
   "outputs": [],
   "source": [
    "list_vowels = ['a','e','i', 'o', 'u']\n",
    "\n",
    "#'k' in list_vowels\n",
    "\n",
    "'a' in list_vowels"
   ]
  },
  {
   "cell_type": "markdown",
   "metadata": {},
   "source": [
    "### Indexing and Slicing\n",
    "\n",
    "Indexing and slicing works the same for lists and strings."
   ]
  },
  {
   "cell_type": "code",
   "execution_count": null,
   "metadata": {},
   "outputs": [],
   "source": [
    "L= ['spam', 'Spam', \"SPAM\"]\n",
    "print(L[2])\n",
    "print(L[1:])\n",
    "print(L[2][0]) # comes from SPAM\n",
    "print(L[1][0]) # comes from Spam"
   ]
  },
  {
   "cell_type": "markdown",
   "metadata": {},
   "source": [
    "What about when I have lists of lists?"
   ]
  },
  {
   "cell_type": "code",
   "execution_count": null,
   "metadata": {},
   "outputs": [],
   "source": [
    "L=[[1,2,3],[4,5,6]]\n",
    "L[0]"
   ]
  },
  {
   "cell_type": "code",
   "execution_count": null,
   "metadata": {},
   "outputs": [],
   "source": [
    "L[1][1]"
   ]
  },
  {
   "cell_type": "markdown",
   "metadata": {},
   "source": [
    "### Changing Lists In-Place\n",
    "\n",
    "Because lists are mutable, they support operations that change a list in-place.  That is, the operations in this section all modify the list object directly.\n",
    "\n",
    "When using a list, you can change its contents by assigning to either a particular item or an entire section"
   ]
  },
  {
   "cell_type": "code",
   "execution_count": null,
   "metadata": {},
   "outputs": [],
   "source": [
    "#Changing an element using slicing\n",
    "L= ['spam', 'Spam', \"SPAM\"]\n",
    "L[1] = 'eggs'\n",
    "L"
   ]
  },
  {
   "cell_type": "code",
   "execution_count": null,
   "metadata": {},
   "outputs": [],
   "source": [
    "#Change a section\n",
    "# L =['spam', 'eggs', 'SPAM']\n",
    "L[:2] = ['eat', 'more']\n",
    "L"
   ]
  },
  {
   "cell_type": "code",
   "execution_count": null,
   "metadata": {},
   "outputs": [],
   "source": [
    "#Lengths don't have to match\n",
    "L[:2] = ['eat', 'more', 'delicious']\n",
    "L"
   ]
  },
  {
   "cell_type": "markdown",
   "metadata": {},
   "source": [
    "You can use the del statement to delete an item or section in place"
   ]
  },
  {
   "cell_type": "code",
   "execution_count": null,
   "metadata": {},
   "outputs": [],
   "source": [
    "#Deleting element by index\n",
    "L =[1,2,3]\n",
    "del L[0]\n",
    "L"
   ]
  },
  {
   "cell_type": "markdown",
   "metadata": {},
   "source": [
    "### Basic Operations\n",
    "\n",
    "Lists support many of the same operations as strings.  For example, lists respond to the + and * operators much like string"
   ]
  },
  {
   "cell_type": "code",
   "execution_count": null,
   "metadata": {},
   "outputs": [],
   "source": [
    "#List concatenation\n",
    "L = [1,2,3]\n",
    "newL = L + [4,5,6]\n",
    "newL"
   ]
  },
  {
   "cell_type": "code",
   "execution_count": null,
   "metadata": {},
   "outputs": [],
   "source": [
    "#List repetition\n",
    "newL*3"
   ]
  },
  {
   "cell_type": "markdown",
   "metadata": {},
   "source": [
    "Again, the + operator only works when the objects on either side are the same type.  You cannot concatenate a string and list unless you first convert the string to a list"
   ]
  },
  {
   "cell_type": "code",
   "execution_count": null,
   "metadata": {},
   "outputs": [],
   "source": [
    "L = [1,2,3]\n",
    "L+list('56')"
   ]
  },
  {
   "cell_type": "markdown",
   "metadata": {},
   "source": [
    "Note that 5 and 6 appear in the list as strings.  If I want them as numbers I can do the following"
   ]
  },
  {
   "cell_type": "code",
   "execution_count": null,
   "metadata": {},
   "outputs": [],
   "source": [
    "#Unfortunately this doesn't word\n",
    "L + int(list('56'))"
   ]
  },
  {
   "cell_type": "code",
   "execution_count": null,
   "metadata": {},
   "outputs": [],
   "source": [
    "#We need something called list comprehension (more on this later)\n",
    "L + [int(i) for i in list('56')]"
   ]
  },
  {
   "cell_type": "markdown",
   "metadata": {},
   "source": [
    "The **sorted** function returns a sorted list "
   ]
  },
  {
   "cell_type": "code",
   "execution_count": null,
   "metadata": {
    "scrolled": true
   },
   "outputs": [],
   "source": [
    "#Sorting a list\n",
    "unsorted_list = [3,2,54,1,6,34]\n",
    "\n",
    "sorted_list = sorted(unsorted_list)\n",
    "print(sorted_list)\n",
    "\n",
    "#Note that unsorted_list is unchanged\n",
    "unsorted_list"
   ]
  },
  {
   "cell_type": "code",
   "execution_count": null,
   "metadata": {},
   "outputs": [],
   "source": [
    "unsorted_list = [3,2,54,1,6,34]"
   ]
  },
  {
   "cell_type": "code",
   "execution_count": null,
   "metadata": {},
   "outputs": [],
   "source": []
  },
  {
   "cell_type": "markdown",
   "metadata": {},
   "source": [
    "## **Class Participation**\n",
    "\n",
    "The 'reverse' argument of the sorted function determines the order of the sort.  Google how to use this argument and print the list from largest to smallest."
   ]
  },
  {
   "cell_type": "code",
   "execution_count": null,
   "metadata": {},
   "outputs": [],
   "source": []
  },
  {
   "cell_type": "code",
   "execution_count": null,
   "metadata": {},
   "outputs": [],
   "source": []
  },
  {
   "cell_type": "code",
   "execution_count": null,
   "metadata": {},
   "outputs": [],
   "source": []
  },
  {
   "cell_type": "markdown",
   "metadata": {},
   "source": [
    "You might wonder if we can sort the list inplace. We can do exactly this using list methods, which we will learn in a later lecture."
   ]
  },
  {
   "cell_type": "code",
   "execution_count": null,
   "metadata": {},
   "outputs": [],
   "source": [
    "#sorting a list inplace using the sort method\n",
    "unsorted_list = [3,2,54,1,6,34]\n",
    "unsorted_list.sort()\n",
    "\n",
    "#Note that here unsorted_list is changed\n",
    "unsorted_list"
   ]
  },
  {
   "cell_type": "code",
   "execution_count": null,
   "metadata": {},
   "outputs": [],
   "source": [
    "unsorted_list = [3,2,54,1,6,34]\n",
    "unsorted_list.sort()"
   ]
  },
  {
   "cell_type": "code",
   "execution_count": null,
   "metadata": {},
   "outputs": [],
   "source": [
    "unsorted_list"
   ]
  },
  {
   "cell_type": "markdown",
   "metadata": {},
   "source": [
    "Adding elements to a list. Remember that lists are dynamic so we can add elements to a list while the program runs. For this we can use the following two functions:"
   ]
  },
  {
   "cell_type": "code",
   "execution_count": null,
   "metadata": {},
   "outputs": [],
   "source": [
    "list_variable = [1,2,3,4]\n",
    "list_variable"
   ]
  },
  {
   "cell_type": "code",
   "execution_count": null,
   "metadata": {
    "scrolled": true
   },
   "outputs": [],
   "source": [
    "# This function .append(element) adds an element to the end of the list\n",
    "list_variable.append(5)\n",
    "\n",
    "list_variable"
   ]
  },
  {
   "cell_type": "code",
   "execution_count": null,
   "metadata": {},
   "outputs": [],
   "source": [
    "another_list =[1,2,4,5]"
   ]
  },
  {
   "cell_type": "code",
   "execution_count": null,
   "metadata": {},
   "outputs": [],
   "source": [
    "# This function .insert(position,element) inserts element in the index position. \n",
    "# Then all the elements after index move to their index + 1\n",
    "another_list.insert(2,3) #here I am inserting number 3 in position 2 in order to achieve [1,2,3,4,5]\n",
    "another_list"
   ]
  },
  {
   "cell_type": "markdown",
   "metadata": {},
   "source": [
    "Later on we will encounter again these functions .append() and .insert() when we'll talk about Methods."
   ]
  },
  {
   "cell_type": "markdown",
   "metadata": {},
   "source": [
    " "
   ]
  },
  {
   "cell_type": "markdown",
   "metadata": {},
   "source": [
    "We can also add entries in lists"
   ]
  },
  {
   "cell_type": "code",
   "execution_count": null,
   "metadata": {},
   "outputs": [],
   "source": [
    "sum(another_list)"
   ]
  },
  {
   "cell_type": "code",
   "execution_count": null,
   "metadata": {},
   "outputs": [],
   "source": []
  }
 ],
 "metadata": {
  "kernelspec": {
   "display_name": "Python 3",
   "language": "python",
   "name": "python3"
  },
  "language_info": {
   "codemirror_mode": {
    "name": "ipython",
    "version": 3
   },
   "file_extension": ".py",
   "mimetype": "text/x-python",
   "name": "python",
   "nbconvert_exporter": "python",
   "pygments_lexer": "ipython3",
   "version": "3.8.8"
  },
  "toc": {
   "nav_menu": {
    "height": "102px",
    "width": "252px"
   },
   "number_sections": true,
   "sideBar": true,
   "skip_h1_title": false,
   "toc_cell": false,
   "toc_position": {},
   "toc_section_display": "block",
   "toc_window_display": false
  }
 },
 "nbformat": 4,
 "nbformat_minor": 2
}
