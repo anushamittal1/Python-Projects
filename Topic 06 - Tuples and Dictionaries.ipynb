{
 "cells": [
  {
   "cell_type": "markdown",
   "metadata": {
    "collapsed": true
   },
   "source": [
    "## Tuples (immutable)\n",
    "\n",
    "Tuples are python objects that essentially be viewed as immutable lists.  They do not support as many methods, but they share many common properties with lists: ordered collection of arbitrary objects which can be accessed by offset. However, since they are immutable you cannot change the size of the tuple (no append method).  \n",
    "\n",
    "You would use tuples to present things that shouldn't be changed, such as days of the week, or dates on a calendar.   \n",
    "\n",
    "### Tuples in Action\n",
    "\n",
    "Tuples are created using parentheses and not square brackets\n"
   ]
  },
  {
   "cell_type": "code",
   "execution_count": null,
   "metadata": {},
   "outputs": [],
   "source": [
    "#Create a tuple\n",
    "\n",
    "a=(1,2, 2)\n",
    "\n",
    "print(a)\n",
    "type(a)"
   ]
  },
  {
   "cell_type": "code",
   "execution_count": null,
   "metadata": {
    "scrolled": true
   },
   "outputs": [],
   "source": [
    "# Check len just like a list\n",
    "len(a)"
   ]
  },
  {
   "cell_type": "code",
   "execution_count": null,
   "metadata": {},
   "outputs": [],
   "source": [
    "#Indexing works the same as lists\n",
    "a=(1,2,3,4)\n",
    "print(a[0])\n",
    "print(a[1:3])"
   ]
  },
  {
   "cell_type": "code",
   "execution_count": null,
   "metadata": {
    "run_control": {
     "marked": true
    }
   },
   "outputs": [],
   "source": [
    "#Tuples are immutable though...\n",
    "a[1] = 'spam'\n",
    "a"
   ]
  },
  {
   "cell_type": "markdown",
   "metadata": {},
   "source": [
    "## **Class Participation**\n",
    "\n",
    "Can you append the string 'hello' to the end of a\n",
    "\n",
    "Use a as an iterator in a for loop and print each entry in a"
   ]
  },
  {
   "cell_type": "code",
   "execution_count": null,
   "metadata": {},
   "outputs": [],
   "source": []
  },
  {
   "cell_type": "code",
   "execution_count": null,
   "metadata": {},
   "outputs": [],
   "source": []
  },
  {
   "cell_type": "code",
   "execution_count": null,
   "metadata": {},
   "outputs": [],
   "source": [
    "b = a + ('hello')"
   ]
  },
  {
   "cell_type": "markdown",
   "metadata": {},
   "source": [
    "## Why Tuples?\n",
    "\n",
    "You may be wondering, \"Why bother using tuples when they have fewer available methods?\" To be honest, tuples are not used as often as lists in programming, but are used when immutability is necessary. If in your program you are passing around an object and need to make sure it does not get changed, then a tuple becomes your solution. It provides a convenient source of data integrity.\n",
    "\n",
    "You should now be able to create and use tuples in your programming as well as have an understanding of their immutability.\n",
    "\n"
   ]
  },
  {
   "cell_type": "markdown",
   "metadata": {},
   "source": [
    "Why ever use tuples and not just lists?\n",
    "\n",
    "* Can't lists hold the same items that tuples can?\n",
    "    * Yes\n",
    "* Can't lists be updated whenever we want?\n",
    "    * Yes"
   ]
  },
  {
   "cell_type": "markdown",
   "metadata": {},
   "source": [
    "But tuples might be better for _error checking_\n",
    "\n",
    "* Maybe I _know_ the number of items beforehand\n",
    "    * I will only store (latitude, longitude)\n",
    "    * My tuples will only have a person's (name, age, gender)\n",
    "* Maybe these values are fixed forever\n",
    "    * I want my code to _ensure_ that they never change"
   ]
  },
  {
   "cell_type": "markdown",
   "metadata": {},
   "source": [
    "Why ever use tuples and not just lists?\n",
    "\n",
    "* With great power comes great responsibility\n",
    "* (and sometimes responsibility sucks)"
   ]
  },
  {
   "cell_type": "code",
   "execution_count": null,
   "metadata": {},
   "outputs": [],
   "source": [
    "(1,2,3)+(4,)"
   ]
  },
  {
   "cell_type": "markdown",
   "metadata": {},
   "source": [
    "# Dictionaries (mutable)\n",
    "\n",
    "\n",
    "This section will serve as a brief introduction to dictionaries and consist of:\n",
    "\n",
    "    1.) Constructing a Dictionary\n",
    "    2.) Accessing objects from a dictionary\n",
    "    3.) Nesting Dictionaries\n",
    "    4.) Basic Dictionary Methods\n",
    "\n",
    "\n",
    "You can think of dictionaries as unordered collections of objects.  The chief distinction between lists and dictionaries is that items are stored and fetched by key, instead of by position.  Python dictionaries are:\n",
    "\n",
    "*Accessed by key*: Dictionaries associate a set of values with keys, so you can fetch an item out of a dictionary using the key under which you originally stored it.\n",
    "\n",
    "*Unordered collection of arbitrary objects*: Items stored in a dictionary aren't kept in any particular order.  As a result they do not support operations that depend on a positional ordering (slicing, concatenation, etc ...)  Keys provide the symbolic locations of items in a dictionary.  \n",
    "\n",
    "*Variable-length, heterogenous, and arbitrarily nestable*: Like lists, dictionaries can grow and shrink in place, they can contain objects of any type, and they support nesting to any depth.\n",
    "\n",
    "**Main Advantage**: Fast look up of objects\n",
    "\n",
    "**Note on usage**: Any immutable object can be used as a dictionary key"
   ]
  },
  {
   "cell_type": "markdown",
   "metadata": {},
   "source": [
    "Let's assume that we want to translate English to Spanish. How Could I do it?  \n",
    "I look up a dictionary that contains, for each English word, the equivalent Spanish word."
   ]
  },
  {
   "cell_type": "markdown",
   "metadata": {},
   "source": [
    "More generally, a dictionary is a map from keys to values\n",
    "\n",
    "key = an English word, value = corresponding Spanish word  \n",
    "key = bank customer's ID, value = the customer's balance  \n",
    "key = a date, value = Google's stock price on that date  \n"
   ]
  },
  {
   "cell_type": "code",
   "execution_count": null,
   "metadata": {},
   "outputs": [],
   "source": [
    "# Creating a dictionary\n",
    "eng2sp = {'one':'uno', 'two':'dos'}\n",
    "eng2sp\n",
    "\n",
    "# empty dictionary\n",
    "#dict = {}\n",
    "# small dictionary\n",
    "#sma_dict = {key1: 'one', key1: [1,2,3]}"
   ]
  },
  {
   "cell_type": "code",
   "execution_count": null,
   "metadata": {},
   "outputs": [],
   "source": [
    "eng2sp['one']"
   ]
  },
  {
   "cell_type": "code",
   "execution_count": null,
   "metadata": {},
   "outputs": [],
   "source": [
    "eng2sp['three']='tre'\n",
    "eng2sp"
   ]
  },
  {
   "cell_type": "code",
   "execution_count": null,
   "metadata": {},
   "outputs": [],
   "source": [
    "eng2sp['three']='tres'\n",
    "eng2sp"
   ]
  },
  {
   "cell_type": "markdown",
   "metadata": {},
   "source": [
    "## **Class Participation**\n",
    "\n",
    "The Spanish word for four is: cuatro\n",
    "\n",
    "Add this to the eng2sp dictionary"
   ]
  },
  {
   "cell_type": "code",
   "execution_count": null,
   "metadata": {},
   "outputs": [],
   "source": []
  },
  {
   "cell_type": "code",
   "execution_count": null,
   "metadata": {},
   "outputs": [],
   "source": []
  },
  {
   "cell_type": "markdown",
   "metadata": {},
   "source": [
    "## A few Dictionary Methods\n",
    "\n",
    "There are a few methods we can call on a dictionary. Let's get a quick introduction to a few of them:"
   ]
  },
  {
   "cell_type": "code",
   "execution_count": null,
   "metadata": {},
   "outputs": [],
   "source": [
    "# Method to return a list of all keys \n",
    "eng2sp.keys()"
   ]
  },
  {
   "cell_type": "code",
   "execution_count": null,
   "metadata": {},
   "outputs": [],
   "source": [
    "# Method to grab all values\n",
    "eng2sp.values()"
   ]
  },
  {
   "cell_type": "code",
   "execution_count": null,
   "metadata": {},
   "outputs": [],
   "source": [
    "# Method to return tuples of all items  \n",
    "eng2sp.items()"
   ]
  },
  {
   "cell_type": "code",
   "execution_count": null,
   "metadata": {},
   "outputs": [],
   "source": []
  },
  {
   "cell_type": "code",
   "execution_count": null,
   "metadata": {},
   "outputs": [],
   "source": []
  },
  {
   "cell_type": "markdown",
   "metadata": {},
   "source": [
    "### Summary of dictionaries versus lists\n",
    "\n",
    " Operation | Dictionary | List |\n",
    ":---------:|:---------:|:----:|\n",
    "**access item** | dict[key] | list[index] \n",
    "**update item** | dict[key] = value | list[index] = value\n",
    "**check if item exists** | if key in dict | index >= 0 and index < len(list)\n",
    "**slices** | _not possible_ | list[3:5]\n",
    "\n",
    "You use dictionaries when\n",
    "\n",
    "* you will need to access individual items\n",
    "    * and not just iterate over all items\n",
    "* there is some key for each item, and the value can be arbitrary\n",
    "\n",
    "You use lists when\n",
    "\n",
    "* you have a particular ordering of items in mind, or\n",
    "* you just want to iterate over a bunch of items"
   ]
  },
  {
   "cell_type": "code",
   "execution_count": null,
   "metadata": {},
   "outputs": [],
   "source": []
  }
 ],
 "metadata": {
  "kernelspec": {
   "display_name": "Python 3 (ipykernel)",
   "language": "python",
   "name": "python3"
  },
  "language_info": {
   "codemirror_mode": {
    "name": "ipython",
    "version": 3
   },
   "file_extension": ".py",
   "mimetype": "text/x-python",
   "name": "python",
   "nbconvert_exporter": "python",
   "pygments_lexer": "ipython3",
   "version": "3.7.13"
  },
  "toc": {
   "colors": {
    "hover_highlight": "#DAA520",
    "navigate_num": "#000000",
    "navigate_text": "#333333",
    "running_highlight": "#FF0000",
    "selected_highlight": "#FFD700",
    "sidebar_border": "#EEEEEE",
    "wrapper_background": "#FFFFFF"
   },
   "moveMenuLeft": true,
   "nav_menu": {
    "height": "228px",
    "width": "252px"
   },
   "navigate_menu": true,
   "number_sections": true,
   "sideBar": true,
   "skip_h1_title": false,
   "threshold": 4,
   "toc_cell": false,
   "toc_position": {},
   "toc_section_display": "block",
   "toc_window_display": false,
   "widenNotebook": false
  }
 },
 "nbformat": 4,
 "nbformat_minor": 2
}
