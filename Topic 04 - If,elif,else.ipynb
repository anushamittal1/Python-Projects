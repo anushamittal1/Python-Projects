{
 "cells": [
  {
   "cell_type": "markdown",
   "metadata": {},
   "source": [
    "# If Statement and Syntax Rules\n",
    "\n",
    "The Python if statement is the main statement used for selecting from alternative actions based on test results.  Because this is our first in-depth look at compound statements -- statements that embed other statements --  we will also look at general concepts behind the Python syntax model.\n",
    "\n",
    "\n",
    "\n",
    "## Python Syntax Rules\n",
    "\n",
    "In general, Python has a simple, statement-based syntax. However there are a few properties that you need to know:\n",
    "\n",
    "**Statements execute one after the other, until you say otherwise**: Python runs code from the top of the file to the bottom, but note that if statements, for example, can cause the interpreter to jump around in your code.\n",
    "\n",
    "**Code boundaries are detected automatically**: Python uses the indentation of statements under a header to group the statements in a nested block. Also, the end of a line usually marks the end of the statement coded on that line.\n",
    "\n",
    "**Compound statements = header + : + indented statements**: See if statements section for example.\n",
    "\n",
    "**Blank lines, spaces and comments are usually ignored**: Blank lines are ignored in files. Spaces inside of statements and expressions are almost always ignored.\n",
    "\n",
    "\n",
    "\n",
    "## If Statements\n",
    "\n",
    "The if statement is a compound statement that selects actions to perform.  Like all compound Python statements, the if statement may contain other statements, including other ifs. Python lets you combine statements in a program sequentially (so that they execute one after the other) and in an arbitrarily nested fashion (so that they execute only under certain conditions). Here is the general format :\n",
    "\n",
    "if *test1*:\n",
    "\n",
    "    *statement1*\n",
    "    \n",
    "elif *test2*:\n",
    "\n",
    "    *statement2*\n",
    "    \n",
    "else:\n",
    "\n",
    "    *statement3*\n",
    "\n",
    "\n",
    "When the if statement runs, Python executes the first statement assoiciated with the first test that evalates to true, or the else block if all tests are false.  You can only have one if and else statement, but are allowed arbitrarily many elif tests.\n",
    "\n",
    "In practice, both the elif and else parts may be omitted, and there may be more than one statement nested in each section.  Note that words if, elif, else are associated by the fact that they line up vertically, with the same indentation.\n",
    "\n",
    "Lets write our first if statement...\n",
    "    "
   ]
  },
  {
   "cell_type": "code",
   "execution_count": null,
   "metadata": {},
   "outputs": [],
   "source": [
    "# Simple if statement\n",
    "\n",
    "age= 35\n",
    "\n",
    "\n",
    "birthday =  \"10/1/17\"\n",
    "day = \"10/1/17\"\n",
    "\n",
    "if birthday == day:\n",
    "    age += 1 # age = age +1 (In the notes you'll see it as count = count +1 or count +=)\n",
    "\n",
    "age"
   ]
  },
  {
   "cell_type": "code",
   "execution_count": null,
   "metadata": {
    "scrolled": true
   },
   "outputs": [],
   "source": [
    "# If with else: check whether a number is even or odd\n",
    "x = 8\n",
    "if x % 2 == 0:\n",
    "    print(\"even\")\n",
    "else:\n",
    "    print(\"odd\")"
   ]
  },
  {
   "cell_type": "code",
   "execution_count": null,
   "metadata": {},
   "outputs": [],
   "source": [
    "x = 8\n",
    "if x%2 == 0:\n",
    "    print(\"even\")\n",
    "else:\n",
    "    print(\"odd\")"
   ]
  },
  {
   "cell_type": "code",
   "execution_count": null,
   "metadata": {},
   "outputs": [],
   "source": []
  },
  {
   "cell_type": "markdown",
   "metadata": {},
   "source": [
    "## **Class Participation**\n",
    "\n",
    "let the variable y = 1.6\n",
    "Check if this is odd, even, or not an integer.  Print the appropriate classification.\n",
    "\n",
    "Do this again for y = 7, y = 12, y=-5, y=-3.14"
   ]
  },
  {
   "cell_type": "code",
   "execution_count": null,
   "metadata": {},
   "outputs": [],
   "source": []
  },
  {
   "cell_type": "code",
   "execution_count": null,
   "metadata": {},
   "outputs": [],
   "source": []
  },
  {
   "cell_type": "code",
   "execution_count": null,
   "metadata": {},
   "outputs": [],
   "source": []
  },
  {
   "cell_type": "code",
   "execution_count": null,
   "metadata": {},
   "outputs": [],
   "source": [
    "#Print the number of days in a month this year\n",
    "\n",
    "current_month = 2\n",
    "\n",
    "if current_month in [4, 6, 11, 10]:\n",
    "    print(\"This month has 30 days\")\n",
    "elif current_month == 2:\n",
    "    print(\"This month has 28 (or 29) days\")\n",
    "else:\n",
    "    print(\"This month has 31 days\")"
   ]
  },
  {
   "cell_type": "code",
   "execution_count": null,
   "metadata": {},
   "outputs": [],
   "source": [
    "#Nested if - Check if an food item is a brunch item\n",
    "\n",
    "breakfast = [\"eggs\", \"bacon\",\"blt\"]\n",
    "lunch = [\"burger\", \"blt\", \"pizza\"]\n",
    "\n",
    "food = \"blt\"\n",
    "\n",
    "if food in breakfast:\n",
    "    if food in lunch:\n",
    "        print(\"%s is a brunch item\" %food) # the %s operator allows you to add a value into a Python string\n",
    "    else:\n",
    "        print(\"%s is a breakfast item\" %food)\n",
    "else:\n",
    "    if food in lunch:\n",
    "        print(\"%s is a lunch item\" %food)\n",
    "    else:\n",
    "        print(\"%s is not on the menu\" % food)\n"
   ]
  },
  {
   "cell_type": "markdown",
   "metadata": {},
   "source": [
    "The most commmon check in if statements:\n",
    "\n",
    " - x==y: check if x is equal to y\n",
    " - x>=y: check if x is greater than or equal to y\n",
    " - x<=y: check if x if less than or equal to y\n",
    " - x!=y: check if x is not equal to y\n",
    " - x in y: check if x is in y (y must be list, string, tuple or dictionary)\n",
    " - x not in y: check if x is not in y (y must be list, string tuple or dictionary)"
   ]
  },
  {
   "cell_type": "markdown",
   "metadata": {},
   "source": [
    "## Truth Tests\n",
    "\n",
    "The if statement uses a truth test to figure out which block of code to execute.  We'll expand on the ideas we've seen in this section. Boolean operators are used to combine the results of multiple tests.  There are three Boolean expression operators in Python:\n",
    "\n",
    "X and Y: Is true if both X and Y are true\n",
    "\n",
    "X or Y: Is true if either X or Y is true\n",
    "\n",
    "not X: Is true if X is false\n",
    "\n",
    "Lets look at some examples:"
   ]
  },
  {
   "cell_type": "code",
   "execution_count": null,
   "metadata": {},
   "outputs": [],
   "source": [
    "#Check if a number is both a multiple of 2 and 3\n",
    "y = 4\n",
    "\n",
    "if y%2==0 and y%3==0: # y%2 reads: the remainder when y is divided by 2, y%2==0 reads the remainder when y is divided by 2 is  equal to zero.\n",
    "    print(\"%d is a multiple of both 2 and 3\" %y)\n",
    "else:\n",
    "    print(\"%d is not a multiple of both 2 and 3\" %y)\n"
   ]
  },
  {
   "cell_type": "code",
   "execution_count": null,
   "metadata": {},
   "outputs": [],
   "source": [
    "#Check if a name has more than 5 letters or contains an \"x\"\n",
    "\n",
    "name = \"Marissa\"\n",
    "\n",
    "if \"x\" in name or len(name) >=5:\n",
    "    print(\"yep\")\n"
   ]
  },
  {
   "cell_type": "code",
   "execution_count": null,
   "metadata": {},
   "outputs": [],
   "source": [
    "breakfast = [\"eggs\", \"bacon\",\"blt\"]\n",
    "lunch = [\"burger\", \"pizza\"]\n",
    "\n",
    "\n",
    "#Check if we have a new food item\n",
    "food= \"salad\"\n",
    "\n",
    "if food not in breakfast and food not in lunch:\n",
    "    print(\"New item\")\n",
    "else:\n",
    "    if food in breakfast:\n",
    "        print(\"breakfast!\")\n",
    "    else:\n",
    "        print(\"lunch\")"
   ]
  },
  {
   "cell_type": "code",
   "execution_count": null,
   "metadata": {},
   "outputs": [],
   "source": []
  },
  {
   "cell_type": "markdown",
   "metadata": {},
   "source": [
    "## **Participation 2**\n",
    "\n",
    "Any number less than 120 is either a prime number, or divisible by at least one of 2, 3, 5, or 7\n",
    "\n",
    "Write some python code that takes a number, x $\\leq$ 120, and checks if it is prime or not.  If x is prime, the code should print that it's prime.  If x is not prime, it should print which numbers divide it. If x is bigger than 120 it should print that this test doesn't work.  Also, if x=1 this is weird...by definition 1 is not a prime number.\n",
    "\n",
    "Try this for x=1, 3, 9, 11, 15, 17, 31, 33, 51, 53, 54, 67, 69, 105, 111, 119, 129"
   ]
  },
  {
   "cell_type": "code",
   "execution_count": null,
   "metadata": {},
   "outputs": [],
   "source": []
  }
 ],
 "metadata": {
  "kernelspec": {
   "display_name": "Python 3 (ipykernel)",
   "language": "python",
   "name": "python3"
  },
  "language_info": {
   "codemirror_mode": {
    "name": "ipython",
    "version": 3
   },
   "file_extension": ".py",
   "mimetype": "text/x-python",
   "name": "python",
   "nbconvert_exporter": "python",
   "pygments_lexer": "ipython3",
   "version": "3.7.13"
  },
  "toc": {
   "colors": {
    "hover_highlight": "#DAA520",
    "navigate_num": "#000000",
    "navigate_text": "#333333",
    "running_highlight": "#FF0000",
    "selected_highlight": "#FFD700",
    "sidebar_border": "#EEEEEE",
    "wrapper_background": "#FFFFFF"
   },
   "moveMenuLeft": true,
   "nav_menu": {
    "height": "12px",
    "width": "252px"
   },
   "navigate_menu": true,
   "number_sections": true,
   "sideBar": true,
   "skip_h1_title": false,
   "threshold": 4,
   "toc_cell": false,
   "toc_position": {},
   "toc_section_display": "block",
   "toc_window_display": false,
   "widenNotebook": false
  }
 },
 "nbformat": 4,
 "nbformat_minor": 2
}
