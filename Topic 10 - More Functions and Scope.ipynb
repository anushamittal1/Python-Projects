{
 "cells": [
  {
   "cell_type": "markdown",
   "id": "c57aadd1",
   "metadata": {},
   "source": [
    "## Positional arguments\n",
    "\n",
    "When we define arguments to a function the order matters!"
   ]
  },
  {
   "cell_type": "code",
   "execution_count": null,
   "id": "d70d5e54",
   "metadata": {},
   "outputs": [],
   "source": [
    "def power(arg1,arg2):\n",
    "    return arg1**arg2"
   ]
  },
  {
   "cell_type": "code",
   "execution_count": null,
   "id": "25a8f6c5",
   "metadata": {},
   "outputs": [],
   "source": [
    "power(5,2)"
   ]
  },
  {
   "cell_type": "code",
   "execution_count": null,
   "id": "d6e6a184",
   "metadata": {},
   "outputs": [],
   "source": [
    "power(2,5)"
   ]
  },
  {
   "cell_type": "code",
   "execution_count": null,
   "id": "e6039478",
   "metadata": {},
   "outputs": [],
   "source": []
  },
  {
   "cell_type": "markdown",
   "id": "ef0ab286",
   "metadata": {},
   "source": [
    "## Keyword arguments\n",
    "\n",
    "We can redefine how a function takes arguments though!"
   ]
  },
  {
   "cell_type": "code",
   "execution_count": null,
   "id": "48fe9393",
   "metadata": {},
   "outputs": [],
   "source": [
    "def power2(arg1=1,arg2=1):\n",
    "    return arg1**arg2"
   ]
  },
  {
   "cell_type": "code",
   "execution_count": null,
   "id": "5af4d238",
   "metadata": {},
   "outputs": [],
   "source": [
    "power2(5,2)"
   ]
  },
  {
   "cell_type": "code",
   "execution_count": null,
   "id": "10e8cffd",
   "metadata": {},
   "outputs": [],
   "source": [
    "power2(arg1=5,arg2=2)"
   ]
  },
  {
   "cell_type": "code",
   "execution_count": null,
   "id": "80c823e6",
   "metadata": {},
   "outputs": [],
   "source": [
    "power2(arg2=2,arg1=5)"
   ]
  },
  {
   "cell_type": "code",
   "execution_count": null,
   "id": "0c0ff19a",
   "metadata": {},
   "outputs": [],
   "source": [
    "power2(arg1=5)"
   ]
  },
  {
   "cell_type": "code",
   "execution_count": null,
   "id": "047c7ffd",
   "metadata": {},
   "outputs": [],
   "source": [
    "power2(arg2=4)"
   ]
  },
  {
   "cell_type": "code",
   "execution_count": null,
   "id": "e76f9ac7",
   "metadata": {},
   "outputs": [],
   "source": [
    "power2()"
   ]
  },
  {
   "cell_type": "code",
   "execution_count": null,
   "id": "1048e34b",
   "metadata": {},
   "outputs": [],
   "source": []
  },
  {
   "cell_type": "markdown",
   "id": "0ceb1a12",
   "metadata": {},
   "source": [
    "## Mix postional and keyword arguments"
   ]
  },
  {
   "cell_type": "code",
   "execution_count": null,
   "id": "27dfdc6a",
   "metadata": {},
   "outputs": [],
   "source": [
    "def power3(arg1,arg2=1):\n",
    "    return arg1**arg2"
   ]
  },
  {
   "cell_type": "code",
   "execution_count": null,
   "id": "984e2347",
   "metadata": {},
   "outputs": [],
   "source": [
    "power3(5)"
   ]
  },
  {
   "cell_type": "code",
   "execution_count": null,
   "id": "1c6a648d",
   "metadata": {},
   "outputs": [],
   "source": [
    "power3(arg1=5)"
   ]
  },
  {
   "cell_type": "code",
   "execution_count": null,
   "id": "8349a7cc",
   "metadata": {},
   "outputs": [],
   "source": [
    "power3(5,2)"
   ]
  },
  {
   "cell_type": "code",
   "execution_count": null,
   "id": "d4c06556",
   "metadata": {},
   "outputs": [],
   "source": [
    "power3()"
   ]
  },
  {
   "cell_type": "code",
   "execution_count": null,
   "id": "a0fc3407",
   "metadata": {},
   "outputs": [],
   "source": []
  },
  {
   "cell_type": "code",
   "execution_count": null,
   "id": "14774a49",
   "metadata": {},
   "outputs": [],
   "source": [
    "def power4(arg1=1,arg2):\n",
    "    return arg1**arg2"
   ]
  },
  {
   "cell_type": "code",
   "execution_count": null,
   "id": "b1d593c9",
   "metadata": {},
   "outputs": [],
   "source": []
  },
  {
   "cell_type": "markdown",
   "id": "076038fd",
   "metadata": {},
   "source": [
    "## Participation\n",
    "\n",
    "Write a function that takes 4 input arguments.  The first 2 should be positional, and the last 2 should be keyword arguments. For the keyword arguments, the default value should be 0.\n",
    "\n",
    "This function should calculate the ratio between the first and third arguments.\n",
    "\n",
    "It should then calculate the ratio between the second and 4th arguments.\n",
    "\n",
    "Then raise the first ratio to the power of the second ratio.\n",
    "\n",
    "Evaluate this function for various input arguments.  \n",
    "\n",
    "If you don't give an input for the third and 4th arguments, what happens?"
   ]
  },
  {
   "cell_type": "code",
   "execution_count": null,
   "id": "962f4b70",
   "metadata": {},
   "outputs": [],
   "source": []
  },
  {
   "cell_type": "markdown",
   "id": "cfb308fb",
   "metadata": {},
   "source": [
    "## **Scope**\n",
    "\n",
    "Where are variables available?"
   ]
  },
  {
   "cell_type": "code",
   "execution_count": null,
   "id": "632dc5cf",
   "metadata": {},
   "outputs": [],
   "source": [
    "def add2(number):\n",
    "    number += 2\n",
    "    return number"
   ]
  },
  {
   "cell_type": "code",
   "execution_count": null,
   "id": "e08f02df",
   "metadata": {},
   "outputs": [],
   "source": [
    "add2(5)"
   ]
  },
  {
   "cell_type": "code",
   "execution_count": null,
   "id": "aafa9362",
   "metadata": {},
   "outputs": [],
   "source": [
    "twomore = add2(5)\n",
    "print(twomore)"
   ]
  },
  {
   "cell_type": "code",
   "execution_count": null,
   "id": "0c146fd6",
   "metadata": {},
   "outputs": [],
   "source": [
    "print(number)"
   ]
  },
  {
   "cell_type": "code",
   "execution_count": null,
   "id": "4a888c39",
   "metadata": {},
   "outputs": [],
   "source": [
    "str1 = 'Hello '\n",
    "def greeting(name):\n",
    "    str2 = str1+name\n",
    "    return str2\n",
    "\n"
   ]
  },
  {
   "cell_type": "code",
   "execution_count": null,
   "id": "889340d0",
   "metadata": {},
   "outputs": [],
   "source": [
    "print(greeting('Dan'))"
   ]
  },
  {
   "cell_type": "code",
   "execution_count": null,
   "id": "40099283",
   "metadata": {},
   "outputs": [],
   "source": [
    "str1"
   ]
  },
  {
   "cell_type": "code",
   "execution_count": null,
   "id": "a0a2c9a7",
   "metadata": {},
   "outputs": [],
   "source": [
    "str2"
   ]
  },
  {
   "cell_type": "code",
   "execution_count": null,
   "id": "88a9cf1c",
   "metadata": {},
   "outputs": [],
   "source": [
    "str1 = 'Hello '\n",
    "def greeting(name):\n",
    "    str1 += name\n",
    "    return str1"
   ]
  },
  {
   "cell_type": "code",
   "execution_count": null,
   "id": "126343ab",
   "metadata": {},
   "outputs": [],
   "source": [
    "greeting('Dan')"
   ]
  },
  {
   "cell_type": "code",
   "execution_count": null,
   "id": "28372d1f",
   "metadata": {},
   "outputs": [],
   "source": [
    "str1 = 'Hello '\n",
    "def greeting(name):\n",
    "    str2 = str1\n",
    "    str1 = str2\n",
    "    str1 += name\n",
    "    return str1"
   ]
  },
  {
   "cell_type": "code",
   "execution_count": null,
   "id": "8d0aef30",
   "metadata": {},
   "outputs": [],
   "source": [
    "greeting('Dan')"
   ]
  },
  {
   "cell_type": "code",
   "execution_count": null,
   "id": "83a7f9cc",
   "metadata": {},
   "outputs": [],
   "source": [
    "str1 = 'Hello '\n",
    "def greeting(name):\n",
    "    str2 = str1\n",
    "    str2 += name\n",
    "    return str2"
   ]
  },
  {
   "cell_type": "code",
   "execution_count": null,
   "id": "99be47a2",
   "metadata": {},
   "outputs": [],
   "source": [
    "greeting('Dan')"
   ]
  },
  {
   "cell_type": "code",
   "execution_count": null,
   "id": "794e5cd8",
   "metadata": {},
   "outputs": [],
   "source": []
  },
  {
   "cell_type": "markdown",
   "id": "e90c28a1",
   "metadata": {},
   "source": [
    "## **Participation**\n",
    "\n",
    "Create a variable, called seven, that is equal to 7.\n",
    "\n",
    "Define a function called check_seven that take an input.\n",
    "\n",
    "If the input is equal to the seven variable's value, then the function should return True.\n",
    "\n",
    "If the input is not equal to the seven variable's value, then the function should return False.\n",
    "\n",
    "seven should not be defined inside the function"
   ]
  },
  {
   "cell_type": "code",
   "execution_count": null,
   "id": "fc8163f9",
   "metadata": {},
   "outputs": [],
   "source": []
  },
  {
   "cell_type": "code",
   "execution_count": null,
   "id": "d02fa35b",
   "metadata": {},
   "outputs": [],
   "source": []
  },
  {
   "cell_type": "markdown",
   "id": "3f2ed34b",
   "metadata": {},
   "source": [
    "## Changing lists in a function?"
   ]
  },
  {
   "cell_type": "code",
   "execution_count": null,
   "id": "8918a917",
   "metadata": {},
   "outputs": [],
   "source": [
    "\n",
    "def change(list_change,index,value):\n",
    "    list_change[index]=value\n",
    "    return list_change"
   ]
  },
  {
   "cell_type": "code",
   "execution_count": null,
   "id": "0b397b4d",
   "metadata": {},
   "outputs": [],
   "source": [
    "mylist = [1,2,3,77,66,32]\n",
    "new_list = change(mylist,2,91)\n",
    "print(new_list)"
   ]
  },
  {
   "cell_type": "code",
   "execution_count": null,
   "id": "07b8af0c",
   "metadata": {},
   "outputs": [],
   "source": [
    "print(mylist)"
   ]
  },
  {
   "cell_type": "code",
   "execution_count": null,
   "id": "285f6d2d",
   "metadata": {},
   "outputs": [],
   "source": []
  },
  {
   "cell_type": "code",
   "execution_count": null,
   "id": "4752200b",
   "metadata": {},
   "outputs": [],
   "source": [
    "mylist = [1,2,3,77,66,32]\n",
    "new_list = change(mylist.copy(),2,91)\n",
    "print(new_list)"
   ]
  },
  {
   "cell_type": "code",
   "execution_count": null,
   "id": "ef0ecdea",
   "metadata": {},
   "outputs": [],
   "source": [
    "print(mylist)"
   ]
  },
  {
   "cell_type": "code",
   "execution_count": null,
   "id": "7a147a57",
   "metadata": {},
   "outputs": [],
   "source": []
  },
  {
   "cell_type": "markdown",
   "id": "11914595",
   "metadata": {},
   "source": [
    "## This isn't unique to functions..."
   ]
  },
  {
   "cell_type": "code",
   "execution_count": null,
   "id": "554025fd",
   "metadata": {},
   "outputs": [],
   "source": [
    "mylist1 = [1,2,3]\n",
    "mylist2 = mylist1\n",
    "print(mylist2)"
   ]
  },
  {
   "cell_type": "code",
   "execution_count": null,
   "id": "852d4f5c",
   "metadata": {},
   "outputs": [],
   "source": [
    "mylist2[0]='Hello'\n",
    "print(mylist2)\n",
    "print(mylist1)"
   ]
  },
  {
   "cell_type": "code",
   "execution_count": null,
   "id": "5ea9c5e5",
   "metadata": {},
   "outputs": [],
   "source": []
  },
  {
   "cell_type": "code",
   "execution_count": null,
   "id": "9292fdd4",
   "metadata": {},
   "outputs": [],
   "source": [
    "mylist1 = [1,2,3]\n",
    "mylist2 = mylist1.copy()\n",
    "mylist2[0]='Hello'\n",
    "print(mylist2)\n",
    "print(mylist1)"
   ]
  },
  {
   "cell_type": "code",
   "execution_count": null,
   "id": "fd50e5cf",
   "metadata": {},
   "outputs": [],
   "source": []
  }
 ],
 "metadata": {
  "kernelspec": {
   "display_name": "Python 3 (ipykernel)",
   "language": "python",
   "name": "python3"
  },
  "language_info": {
   "codemirror_mode": {
    "name": "ipython",
    "version": 3
   },
   "file_extension": ".py",
   "mimetype": "text/x-python",
   "name": "python",
   "nbconvert_exporter": "python",
   "pygments_lexer": "ipython3",
   "version": "3.7.13"
  }
 },
 "nbformat": 4,
 "nbformat_minor": 5
}
