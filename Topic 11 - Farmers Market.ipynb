{
 "cells": [
  {
   "cell_type": "code",
   "execution_count": null,
   "id": "c8490068",
   "metadata": {},
   "outputs": [],
   "source": [
    "import random"
   ]
  },
  {
   "cell_type": "code",
   "execution_count": null,
   "id": "a66d60cb",
   "metadata": {},
   "outputs": [],
   "source": [
    "d_corn = random.choice(range(4)) # randomly pick a number from 0,1,2,3\n",
    "print(d_corn)"
   ]
  },
  {
   "cell_type": "code",
   "execution_count": null,
   "id": "4e577bb3",
   "metadata": {},
   "outputs": [],
   "source": [
    "n_cust = random.choice(range(50,76)) # randomly pick a number from 50, 51, ..., 74, 75\n",
    "print(n_cust)"
   ]
  },
  {
   "cell_type": "code",
   "execution_count": null,
   "id": "bf1bde2a",
   "metadata": {},
   "outputs": [],
   "source": [
    "inventory = {'milk':5,'strawberries':5,'corn':10,'pecans':10}\n",
    "def reduce():\n",
    "    inventory['milk'] -= 1\n",
    "reduce()\n",
    "inventory"
   ]
  },
  {
   "cell_type": "code",
   "execution_count": null,
   "id": "9beb14a1",
   "metadata": {},
   "outputs": [],
   "source": []
  },
  {
   "cell_type": "code",
   "execution_count": null,
   "id": "990e689b",
   "metadata": {},
   "outputs": [],
   "source": [
    "# define all appropriate numbers from table here\n",
    "\n",
    "\n"
   ]
  },
  {
   "cell_type": "code",
   "execution_count": null,
   "id": "4f524ada",
   "metadata": {},
   "outputs": [],
   "source": []
  },
  {
   "cell_type": "code",
   "execution_count": null,
   "id": "0ef9a13f",
   "metadata": {},
   "outputs": [],
   "source": [
    "# define number to purchase from each product here\n",
    "\n"
   ]
  },
  {
   "cell_type": "code",
   "execution_count": null,
   "id": "4f538c95",
   "metadata": {},
   "outputs": [],
   "source": []
  },
  {
   "cell_type": "code",
   "execution_count": null,
   "id": "f9d00e4d",
   "metadata": {},
   "outputs": [],
   "source": [
    "# define inventory dictionary here\n",
    "\n",
    "\n"
   ]
  },
  {
   "cell_type": "code",
   "execution_count": null,
   "id": "8a95c448",
   "metadata": {},
   "outputs": [],
   "source": []
  },
  {
   "cell_type": "code",
   "execution_count": null,
   "id": "e51ef10e",
   "metadata": {},
   "outputs": [],
   "source": [
    "# write customer function here\n",
    "\n",
    "def reduce_inventory_return_revenue():\n",
    "    # simulate demands for 4 products\n",
    "    \n",
    "    \n",
    "    \n",
    "    # check if strawberry demand is greater than inventory\n",
    "    # if so add excess strawberry demand to pecan demand, \n",
    "    # but not to exceed max pecan demand\n",
    "    # and adjust strawberry demand\n",
    "    \n",
    "    \n",
    "    \n",
    "    # check if other product demands exceed product inventory\n",
    "    # if so, make sure demand is reduced to inventory for each product\n",
    "    \n",
    "    \n",
    "    \n",
    "    # calculate cost of the basket\n",
    "    \n",
    "    \n",
    "    \n",
    "    # while cost is too high - remove most expensive item and recalculate cost\n",
    "    \n",
    "    \n",
    "    \n",
    "    \n",
    "    # reduce inventory of each item by the amount of that item in the basket\n",
    "    \n",
    "    \n",
    "    \n",
    "    \n",
    "    # return cost of the basket (this is the revenue to you!)"
   ]
  },
  {
   "cell_type": "code",
   "execution_count": null,
   "id": "b37ff09f",
   "metadata": {},
   "outputs": [],
   "source": [
    "# expiriment with your function, to make sure it works, here"
   ]
  },
  {
   "cell_type": "code",
   "execution_count": null,
   "id": "64ddb8cc",
   "metadata": {},
   "outputs": [],
   "source": []
  },
  {
   "cell_type": "code",
   "execution_count": null,
   "id": "db2f0a02",
   "metadata": {},
   "outputs": [],
   "source": []
  },
  {
   "cell_type": "code",
   "execution_count": null,
   "id": "83ab5d26",
   "metadata": {},
   "outputs": [],
   "source": [
    "# define empty profit list\n",
    "\n",
    "# loop over 1000 simulations\n",
    "\n",
    "    # reset inventory dictionary to amount purchased from farmers\n",
    "    \n",
    "    # set profit equal to negative cost of buying those products\n",
    "    \n",
    "    # simulate how many customers will show up today\n",
    "    \n",
    "    # loop through each customer that shows up today\n",
    "    \n",
    "        # call the function that reduces inventory and returns revenue\n",
    "        \n",
    "        # add the revenue to the profit\n",
    "        \n",
    "    # sell left over inventory back to the farmers and increase profit accordingly\n",
    "    \n",
    "    # append profit to profit list\n",
    "    \n",
    "# calculate average profit"
   ]
  }
 ],
 "metadata": {
  "kernelspec": {
   "display_name": "Python 3",
   "language": "python",
   "name": "python3"
  },
  "language_info": {
   "codemirror_mode": {
    "name": "ipython",
    "version": 3
   },
   "file_extension": ".py",
   "mimetype": "text/x-python",
   "name": "python",
   "nbconvert_exporter": "python",
   "pygments_lexer": "ipython3",
   "version": "3.8.8"
  }
 },
 "nbformat": 4,
 "nbformat_minor": 5
}
