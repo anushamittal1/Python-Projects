{
 "cells": [
  {
   "cell_type": "markdown",
   "metadata": {},
   "source": [
    "# For Loop\n",
    "\n",
    "The for loop in used to step through the items in any ordered sequence object.  The Python for loop begins with a header line that specifies an assignment target, along with objects you want to step through.  The structure of a for loop is as follows:\n",
    "\n",
    "for *target* in *object*:\n",
    "    \n",
    "    *statements*\n",
    "    if *test*: \n",
    "    \n",
    "        break\n",
    "    \n",
    "\n",
    "*break*: Jumps out of the closest enclosing loop (past the entire loop statement)\n",
    "\n",
    "\n",
    "When Python runs a for loop, it assigns the items in the sequence object to the target one by one and executes the loop body for each.  After the loop has finished, the loop variable still refers to the last item visited."
   ]
  },
  {
   "cell_type": "code",
   "execution_count": null,
   "metadata": {},
   "outputs": [],
   "source": [
    "#print elements of a list\n",
    "l = ['spam', 'eggs', 'ham']\n",
    "for name in l:\n",
    "    print(name)"
   ]
  },
  {
   "cell_type": "code",
   "execution_count": null,
   "metadata": {},
   "outputs": [],
   "source": [
    "#compute first four multiple of y\n",
    "x=[1,2,3,4]\n",
    "y=5\n",
    "for m in x:\n",
    "    print(y*m)"
   ]
  },
  {
   "cell_type": "code",
   "execution_count": null,
   "metadata": {},
   "outputs": [],
   "source": [
    "#Also words on strings. count number of vowels\n",
    "name= \"Samantha\"\n",
    "count=0\n",
    "\n",
    "for letter in name:\n",
    "    if letter in ['a','e', 'i', 'o', 'u']:\n",
    "        count+=1\n",
    "print(\"%s has %d vowels\" %(name, count))"
   ]
  },
  {
   "cell_type": "code",
   "execution_count": null,
   "metadata": {},
   "outputs": [],
   "source": [
    "#search for each of the object in test in items\n",
    "items = [\"aaa\", 111,[4,5], 2.01]\n",
    "tests = [[4,5], 3.14]\n",
    "\n",
    "for test in tests:\n",
    "    if test in items:\n",
    "        print(test, \"found\")\n",
    "    else:\n",
    "        print(test, \"not found\")"
   ]
  },
  {
   "cell_type": "markdown",
   "metadata": {},
   "source": [
    "Python provides a built in tool that allows you to specialize the iteration in a for loop.  The built in range function produces a series of successively higher integers, which can be used as indexes in a for loop.\n",
    "\n",
    "The range function is really a general tool that can be used in a variety of contexts, although it is used most often to generate indexes in a for loop. In Python 3.X, range is an iterator that needs to be wrapped in a list call to display its results all at once."
   ]
  },
  {
   "cell_type": "code",
   "execution_count": null,
   "metadata": {},
   "outputs": [],
   "source": [
    "print(list(range(5)))\n",
    "print(list(range(2,5)))\n",
    "print(list(range(10,0,-1)))"
   ]
  },
  {
   "cell_type": "markdown",
   "metadata": {},
   "source": [
    "With one argument, range generates a list of integers from zero up to but not including the argument's value. With two arguments you can specify a starting point and with three you can specify a step size."
   ]
  },
  {
   "cell_type": "code",
   "execution_count": null,
   "metadata": {},
   "outputs": [],
   "source": [
    "for i in range(3):\n",
    "    print(i)  "
   ]
  },
  {
   "cell_type": "code",
   "execution_count": null,
   "metadata": {
    "scrolled": true
   },
   "outputs": [],
   "source": [
    "#verbose way to iterate over elements of a list. This gives you access to the index of each of the elements and not the elements themselves\n",
    "l=[1,2,3,4]\n",
    "for num in l:\n",
    "    print(num)\n",
    "    \n",
    "#for i in range(len(l)):\n",
    "    #print(l[i])"
   ]
  },
  {
   "cell_type": "code",
   "execution_count": null,
   "metadata": {},
   "outputs": [],
   "source": [
    "for i in range(len(l)):\n",
    "    print(l[i])"
   ]
  },
  {
   "cell_type": "code",
   "execution_count": null,
   "metadata": {},
   "outputs": [],
   "source": []
  },
  {
   "cell_type": "code",
   "execution_count": null,
   "metadata": {},
   "outputs": [],
   "source": [
    "for i in range(len(l)):\n",
    "    print(l[i])           #len(l) = 4, range(4)=> 0,1,2,3"
   ]
  },
  {
   "cell_type": "code",
   "execution_count": null,
   "metadata": {},
   "outputs": [],
   "source": [
    "l=[1,2,3,4]\n",
    "#get every second element of list\n",
    "for i in range(1,len(l),2):\n",
    "    print(l[i])\n",
    "    "
   ]
  },
  {
   "cell_type": "code",
   "execution_count": null,
   "metadata": {},
   "outputs": [],
   "source": [
    "#Check if x is prime. If not give a multiple that neither 1 nor x.\n",
    "x= 15\n",
    "flag=0\n",
    "for i in range(2,x):\n",
    "    \n",
    "    if x%i ==0:\n",
    "        flag=1\n",
    "        multiple = i\n",
    "        break\n",
    "\n",
    "if flag==0:\n",
    "    print(\"%d is prime\" %x)\n",
    "else:\n",
    "    print(\"%d is not prime since %d divides it\" %(x, multiple))"
   ]
  },
  {
   "cell_type": "code",
   "execution_count": null,
   "metadata": {},
   "outputs": [],
   "source": [
    "#Count number of \"a\"s in all words of the list\n",
    "\n",
    "names_list = [\"Dan\", \"Thomas\" , \"Xiaofan\"]\n",
    "count_a = 0\n",
    "for name in names_list:\n",
    "    for letter in name:\n",
    "        if letter == \"a\":\n",
    "            count_a+=1\n",
    "print(\"Total number of a's is\",count_a)"
   ]
  },
  {
   "cell_type": "code",
   "execution_count": null,
   "metadata": {},
   "outputs": [],
   "source": []
  },
  {
   "cell_type": "markdown",
   "metadata": {},
   "source": [
    "## **Class Participation**\n",
    "\n",
    "Print all the prime numbers between 2 - 200.\n",
    "\n",
    "1. create an empty list\n",
    "2. Loop through the numbers x from 2 - 200\n",
    "3. In side of that loop, loop through the number y from 2 to x-1\n",
    "4. if x is divisible by y, then x isn't prime\n",
    "5. after the y loop is done, if nothing divided x then x is prime\n",
    "6. append any such prime number to the list from step 1"
   ]
  },
  {
   "cell_type": "code",
   "execution_count": null,
   "metadata": {},
   "outputs": [],
   "source": []
  },
  {
   "cell_type": "code",
   "execution_count": null,
   "metadata": {},
   "outputs": [],
   "source": []
  },
  {
   "cell_type": "code",
   "execution_count": null,
   "metadata": {},
   "outputs": [],
   "source": []
  },
  {
   "cell_type": "code",
   "execution_count": null,
   "metadata": {},
   "outputs": [],
   "source": []
  },
  {
   "cell_type": "markdown",
   "metadata": {},
   "source": [
    "# While and For Loops\n",
    "\n",
    "The while loop provides a way to code general loops.  The for loop is designed for stepping through the items in a sequence object and running a block of code for each element in the sequence.\n",
    "\n",
    "## While Loop\n",
    "\n",
    "In simple terms, it repeatedly executes a block of statements as long as a test at the top keeps evaluating to a true value.  The general form is as follows\n",
    "\n",
    "while *test*:\n",
    "\n",
    "    *statement1*\n",
    "else:\n",
    "    \n",
    "    *statement2*\n",
    "    \n",
    "The else at the end is optional and will only run if you didn't exit the loop with a break (more on this later).\n"
   ]
  },
  {
   "cell_type": "code",
   "execution_count": null,
   "metadata": {},
   "outputs": [],
   "source": [
    "#slowly chopping the spam\n",
    "word='spam'\n",
    "while word !='':\n",
    "    print(word)\n",
    "    word = word[1:]"
   ]
  },
  {
   "cell_type": "code",
   "execution_count": null,
   "metadata": {},
   "outputs": [],
   "source": [
    "#Another example\n",
    "a=0\n",
    "b=10\n",
    "while a<b:\n",
    "    #a=a+1\n",
    "    a+=1\n",
    "    #prints in single line\n",
    "    print(a)"
   ]
  },
  {
   "cell_type": "code",
   "execution_count": null,
   "metadata": {},
   "outputs": [],
   "source": []
  }
 ],
 "metadata": {
  "kernelspec": {
   "display_name": "Python 3 (ipykernel)",
   "language": "python",
   "name": "python3"
  },
  "language_info": {
   "codemirror_mode": {
    "name": "ipython",
    "version": 3
   },
   "file_extension": ".py",
   "mimetype": "text/x-python",
   "name": "python",
   "nbconvert_exporter": "python",
   "pygments_lexer": "ipython3",
   "version": "3.7.13"
  },
  "toc": {
   "colors": {
    "hover_highlight": "#DAA520",
    "navigate_num": "#000000",
    "navigate_text": "#333333",
    "running_highlight": "#FF0000",
    "selected_highlight": "#FFD700",
    "sidebar_border": "#EEEEEE",
    "wrapper_background": "#FFFFFF"
   },
   "moveMenuLeft": true,
   "nav_menu": {
    "height": "12px",
    "width": "252px"
   },
   "navigate_menu": true,
   "number_sections": true,
   "sideBar": true,
   "skip_h1_title": false,
   "threshold": 4,
   "toc_cell": false,
   "toc_position": {},
   "toc_section_display": "block",
   "toc_window_display": false,
   "widenNotebook": false
  }
 },
 "nbformat": 4,
 "nbformat_minor": 2
}
