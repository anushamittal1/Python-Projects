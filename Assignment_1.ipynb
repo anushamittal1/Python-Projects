{
  "cells": [
    {
      "cell_type": "markdown",
      "metadata": {
        "id": "FdbaVbj9_BG8"
      },
      "source": [
        "# <p style=\"text-align: center;\">Assignment 1</p>\n",
        "## <p style=\"text-align: center;\">Total points: 100</p>"
      ]
    },
    {
      "cell_type": "code",
      "execution_count": null,
      "metadata": {
        "id": "szbc3mAC_BG-"
      },
      "outputs": [],
      "source": [
        "#Anusha Mittal"
      ]
    },
    {
      "cell_type": "markdown",
      "metadata": {
        "id": "N7w8u4lf_BG-"
      },
      "source": [
        "**Question 1a**    2pts  \n",
        "\n",
        "**Print** the name of your favorite song."
      ]
    },
    {
      "cell_type": "code",
      "execution_count": null,
      "metadata": {
        "colab": {
          "base_uri": "https://localhost:8080/"
        },
        "id": "5xvJYP1W_BG_",
        "outputId": "77c0b172-c147-459c-e2b1-8309988180ac"
      },
      "outputs": [
        {
          "output_type": "stream",
          "name": "stdout",
          "text": [
            "thinking 2 much\n"
          ]
        }
      ],
      "source": [
        "print (\"thinking 2 much\")"
      ]
    },
    {
      "cell_type": "markdown",
      "metadata": {
        "id": "0Xr9VlWf_BHA"
      },
      "source": [
        "**Question 1b**    2pts  \n",
        "\n",
        "Check the type of the following variables by using type() :\n",
        "\n",
        "1) name = 'Tamira'    \n",
        "2) age = 26  \n",
        "3) change = 25.5  \n",
        "4) price = 'The price is $25.5'  \n"
      ]
    },
    {
      "cell_type": "code",
      "execution_count": null,
      "metadata": {
        "colab": {
          "base_uri": "https://localhost:8080/"
        },
        "id": "RVuYAiEt_BHA",
        "outputId": "f6519bdc-24e6-4d05-fe75-2ba61297054e"
      },
      "outputs": [
        {
          "output_type": "execute_result",
          "data": {
            "text/plain": [
              "str"
            ]
          },
          "metadata": {},
          "execution_count": 6
        }
      ],
      "source": [
        "name = 'Tamira'\n",
        "age = 26\n",
        "change = 25.5\n",
        "price = 'The price is $25.5'\n",
        "type(name)\n",
        "type(age)\n",
        "type(change)\n",
        "type(price)\n"
      ]
    },
    {
      "cell_type": "markdown",
      "metadata": {
        "id": "Wpbzl2mE_BHA"
      },
      "source": [
        "**Question 1c**    2pts  \n",
        "\n",
        "Check using == if 123 is the same as '123'"
      ]
    },
    {
      "cell_type": "code",
      "execution_count": null,
      "metadata": {
        "colab": {
          "base_uri": "https://localhost:8080/"
        },
        "id": "Q-d5aQjv_BHB",
        "outputId": "8dc4fd54-e77b-4803-91c2-50382449563b"
      },
      "outputs": [
        {
          "output_type": "execute_result",
          "data": {
            "text/plain": [
              "False"
            ]
          },
          "metadata": {},
          "execution_count": 7
        }
      ],
      "source": [
        "123 == '123'"
      ]
    },
    {
      "cell_type": "markdown",
      "metadata": {
        "id": "oxhNWiWx_BHB"
      },
      "source": [
        "**Question 1d**    4pts\n",
        "\n",
        "1) Create three variables and assign them the strings 'lady','bird' and 'lake' respectively.    \n",
        "2) Concatenate the first two to create the string 'ladybird'.  \n",
        "3) Use the strings above to print the phrase \"I like to take walks around ladybird lake\"."
      ]
    },
    {
      "cell_type": "code",
      "execution_count": null,
      "metadata": {
        "colab": {
          "base_uri": "https://localhost:8080/"
        },
        "id": "WYUVIlRk_BHB",
        "outputId": "44a55e7a-dc99-45d1-97f2-aeeb5c51212e"
      },
      "outputs": [
        {
          "output_type": "stream",
          "name": "stdout",
          "text": [
            "i like to take walks around ladybird lake\n"
          ]
        }
      ],
      "source": [
        "var1 = 'lady'\n",
        "var2 = 'bird'\n",
        "var3 = 'lake'\n",
        "\n",
        "var1 + var2\n",
        "print (\"I like to take walks around \" + var1 + var2 + \" \" + var3)"
      ]
    },
    {
      "cell_type": "markdown",
      "metadata": {
        "id": "CdYx99ND_BHC"
      },
      "source": [
        "**Question 2**    10pts\n",
        "\n",
        "To convert temperatures in degrees Celsius to Fahrenheit, multiply by 1.8 (or 9/5) and add 32. Create a program that asks the user to enter a temperature in Celcius and print \" (user's input) degrees in Celcius is equivalent to (insert calculation result in Farenheit) degrees Farenheit\"."
      ]
    },
    {
      "cell_type": "code",
      "execution_count": null,
      "metadata": {
        "colab": {
          "base_uri": "https://localhost:8080/"
        },
        "id": "j4WGMQry_BHC",
        "outputId": "3e64c02d-aeca-4216-f8ab-23d2a73d3f94"
      },
      "outputs": [
        {
          "output_type": "stream",
          "name": "stdout",
          "text": [
            "Enter temperature in Celcius:32\n",
            "32.0 degrees in Celcius is equivalent to 57.6 degrees Farenheit\n"
          ]
        }
      ],
      "source": [
        "user_input = float(input(\"Enter temperature in Celcius:\"))\n",
        "result = str(user_input*1.8)\n",
        "print (str(user_input) + \" degrees in Celcius is equivalent to \" + result + \" degrees Farenheit\")"
      ]
    },
    {
      "cell_type": "markdown",
      "metadata": {
        "id": "ubYjSnPW_BHC"
      },
      "source": [
        "**Question 3a**    5pts\n",
        "\n",
        "Create the following program:\n",
        "\n",
        "1) Ask the user to enter their age   \n",
        "2) Next, print \" Your age is (insert user's age here) and in 5 years from now you will be (insert user's age + 5) years !\"\n",
        "\n",
        "For example: User input = 30 will print  'Your age is 30 and in 5 years from now you will be 35 years !'"
      ]
    },
    {
      "cell_type": "code",
      "execution_count": null,
      "metadata": {
        "colab": {
          "base_uri": "https://localhost:8080/"
        },
        "id": "C2dZrlin_BHD",
        "outputId": "b03968fa-9c50-4d43-ae78-1496b57e2668"
      },
      "outputs": [
        {
          "output_type": "stream",
          "name": "stdout",
          "text": [
            "what is your age?5\n",
            "your age is 5 and in 5 years from now you will be 10 years !\n"
          ]
        }
      ],
      "source": [
        "age = input(\"what is your age?\")\n",
        "age_plus_five = str(int(age) + 5)\n",
        "print(\"your age is\", age , \"and in 5 years from now you will be\", age_plus_five, \"years !\")"
      ]
    },
    {
      "cell_type": "markdown",
      "metadata": {
        "id": "iFGjdwwk_BHD"
      },
      "source": [
        "**Question 3b**    5pts    \n",
        "\n",
        "Now create a similar program:\n",
        "\n",
        "1) Ask the user to enter their age   \n",
        "2) Next, print \"(insert user's age here) is a great age! I only wish I was your age.\""
      ]
    },
    {
      "cell_type": "code",
      "execution_count": null,
      "metadata": {
        "colab": {
          "base_uri": "https://localhost:8080/"
        },
        "id": "ayU2Ec9M_BHD",
        "outputId": "d99219e5-2ede-40f4-9729-602d0c072e0b"
      },
      "outputs": [
        {
          "output_type": "stream",
          "name": "stdout",
          "text": [
            "what is your age?3\n",
            "3 is a great age! I only wish I was your age.\n"
          ]
        }
      ],
      "source": [
        "age = input(\"what is your age?\")\n",
        "print(\"\" + age +  \" is a great age! I only wish I was your age.\")"
      ]
    },
    {
      "cell_type": "markdown",
      "metadata": {
        "id": "xI1quMrF_BHE"
      },
      "source": [
        "**Question 4a** 4pts\n",
        "\n",
        "Check if the word \"password\" contains the word \"word\" by using **in**.  \n",
        "The result is a boolean variable."
      ]
    },
    {
      "cell_type": "code",
      "execution_count": null,
      "metadata": {
        "colab": {
          "base_uri": "https://localhost:8080/"
        },
        "id": "Veh912T7_BHE",
        "outputId": "0d2c91e7-4569-4562-babc-b51d64479094"
      },
      "outputs": [
        {
          "output_type": "execute_result",
          "data": {
            "text/plain": [
              "True"
            ]
          },
          "metadata": {},
          "execution_count": 6
        }
      ],
      "source": [
        "\"word\" in \"password\""
      ]
    },
    {
      "cell_type": "markdown",
      "metadata": {
        "id": "sLU3bH_o_BHE"
      },
      "source": [
        "**Question 4b** 2pts\n",
        "\n",
        "Create a string named x = \"swordsmanship\".  \n",
        "Next by slicing it get the words 'sword' and 'man' and assign them to variables a and b respectively."
      ]
    },
    {
      "cell_type": "code",
      "execution_count": 11,
      "metadata": {
        "id": "8kqsHY6e_BHF",
        "colab": {
          "base_uri": "https://localhost:8080/"
        },
        "outputId": "237d98d6-b73a-4405-9f91-264044ba2f82"
      },
      "outputs": [
        {
          "output_type": "stream",
          "name": "stdout",
          "text": [
            "sword man\n"
          ]
        }
      ],
      "source": [
        "x = \"swordsmanship\"\n",
        "a = x[0:5]\n",
        "b = x[6:9]\n",
        "print (a,b)"
      ]
    },
    {
      "cell_type": "markdown",
      "metadata": {
        "id": "L3UyPCi-_BHF"
      },
      "source": [
        "**Question 4c** 2pts\n",
        "\n",
        "Combine the words \"man\" and \"kind\" to create the word \"mankind\"."
      ]
    },
    {
      "cell_type": "code",
      "execution_count": 12,
      "metadata": {
        "id": "kKNh6Q_d_BHF",
        "colab": {
          "base_uri": "https://localhost:8080/",
          "height": 35
        },
        "outputId": "c108f126-f1a5-47d8-be8a-124c01397224"
      },
      "outputs": [
        {
          "output_type": "execute_result",
          "data": {
            "text/plain": [
              "'mankind'"
            ],
            "application/vnd.google.colaboratory.intrinsic+json": {
              "type": "string"
            }
          },
          "metadata": {},
          "execution_count": 12
        }
      ],
      "source": [
        "\"man\"+\"kind\""
      ]
    },
    {
      "cell_type": "markdown",
      "metadata": {
        "id": "yfIaYAwr_BHF"
      },
      "source": [
        "**Question 4d** 2pts\n",
        "\n",
        "What's the length of the string 'Pneumonoultramicroscopicsilicovolcanoconiosis' ?  \n"
      ]
    },
    {
      "cell_type": "code",
      "execution_count": 13,
      "metadata": {
        "id": "6ebycj5x_BHG",
        "colab": {
          "base_uri": "https://localhost:8080/"
        },
        "outputId": "0223d390-c4e6-49d2-fc52-701b0e88654b"
      },
      "outputs": [
        {
          "output_type": "execute_result",
          "data": {
            "text/plain": [
              "45"
            ]
          },
          "metadata": {},
          "execution_count": 13
        }
      ],
      "source": [
        "len(\"Pneumonoultramicroscopicsilicovolcanoconiosis\")"
      ]
    },
    {
      "cell_type": "markdown",
      "metadata": {
        "id": "7_4FjMPn_BHG"
      },
      "source": [
        "**Question 5**  8pts\n",
        "\n",
        "You are given the following strings:   \n",
        "s1 = 'super'  \n",
        "s2 = 'cali'  \n",
        "s3 = 'fragi'  \n",
        "s4 = 'listic'  \n",
        "s5 = 'expi'  \n",
        "s6 = 'ali'  \n",
        "s7 = 'docious'  \n",
        "\n",
        "1) Compute the lenght of each of the strings and set all the leghts to new variables $l_1,l_2,...,l_7$ ($l_1$ equals the lenght of $s_1$ etc)  \n",
        "2) Sum the individual lengths and print the total lenth.  \n",
        "3) Create a large string by concatenating $s_1$ through $s_7$ (keeping the order)  \n",
        "4) What is the lenght of the new string? (It should be the same as the sum of the individual lenghts)\n",
        "\n"
      ]
    },
    {
      "cell_type": "code",
      "execution_count": 22,
      "metadata": {
        "id": "JwFfm6Kn_BHH",
        "colab": {
          "base_uri": "https://localhost:8080/"
        },
        "outputId": "1474852b-d085-4e24-a99a-2a2b259c091f"
      },
      "outputs": [
        {
          "output_type": "execute_result",
          "data": {
            "text/plain": [
              "34"
            ]
          },
          "metadata": {},
          "execution_count": 22
        }
      ],
      "source": [
        "s1 = 'super'\n",
        "s2 = 'cali'\n",
        "s3 = 'fragi'\n",
        "s4 = 'listic'\n",
        "s5 = 'expi'\n",
        "s6 = 'ali'\n",
        "s7 = 'docious'\n",
        "\n",
        "l1 = len(s1)\n",
        "l2 = len(s2)\n",
        "l3 = len(s3)\n",
        "l4 = len(s4)\n",
        "l5 = len(s5)\n",
        "l6 = len(s6)\n",
        "l7 = len(s7)\n",
        "\n",
        "l1+l2+l3+l4+l5+l6+l7\n",
        "\n",
        "s1+s2+s3+s4+s5+s6+s7\n",
        "\n",
        "len(s1+s2+s3+s4+s5+s6+s7)"
      ]
    },
    {
      "cell_type": "markdown",
      "metadata": {
        "id": "vazQmn3k_BHH"
      },
      "source": [
        "**Question 6a** 5pts\n",
        "\n",
        "Can you name the interconnected freshwater lakes that cover more than 94,000 square miles in North America? Think “HOMES” (Huron, Ontario, Michigan, Erie, and Superior). Create 5 strings each containg the name of these 5 lakes. Then get the 1st Letter from each of them in order to get the mnemonic \"HOMES\". Your print result should be \"HOMES\""
      ]
    },
    {
      "cell_type": "code",
      "execution_count": 24,
      "metadata": {
        "id": "SHwzt8no_BHH",
        "colab": {
          "base_uri": "https://localhost:8080/",
          "height": 35
        },
        "outputId": "0ee49ed3-1ee5-405d-9664-6951a8f95741"
      },
      "outputs": [
        {
          "output_type": "execute_result",
          "data": {
            "text/plain": [
              "'HOMES'"
            ],
            "application/vnd.google.colaboratory.intrinsic+json": {
              "type": "string"
            }
          },
          "metadata": {},
          "execution_count": 24
        }
      ],
      "source": [
        "lake1 = \"Huron\"\n",
        "lake2 = \"Ontario\"\n",
        "lake3 = \"Michigan\"\n",
        "lake4 = \"Erie\"\n",
        "lake5 = \"Superior\"\n",
        "\n",
        "\n",
        "lake1[0]+lake2[0]+lake3[0]+lake4[0]+lake5[0]"
      ]
    },
    {
      "cell_type": "markdown",
      "metadata": {
        "id": "-Cne3bC5_BHH"
      },
      "source": [
        "**Question 6b**  5pts\n",
        "\n",
        "Figure out a way to slice and combine the lists L1 = [4,6,7,8,9], L2 = [1,2], and L3= [2,3,4,5]  so that the list   \n",
        "consec_ints = [1,2,3,4,5,6,8,9].  \n",
        "\n",
        "Note: Number 7 is missing on purpose.\n",
        "\n",
        "\n"
      ]
    },
    {
      "cell_type": "code",
      "execution_count": 44,
      "metadata": {
        "id": "vhF6WoZv_BHI",
        "colab": {
          "base_uri": "https://localhost:8080/"
        },
        "outputId": "7fd701b3-3af2-4515-a22d-cb061d4040a8"
      },
      "outputs": [
        {
          "output_type": "stream",
          "name": "stdout",
          "text": [
            "[1, 2, 3, 4, 5, 6, 8, 9]\n"
          ]
        }
      ],
      "source": [
        "L1 = [4,6,7,8,9]\n",
        "L2 = [1,2]\n",
        "L3 = [2,3,4,5]\n",
        "\n",
        "consec_ints = L2 + L3[1:] + L1[1:]\n",
        "del consec_ints[6]\n",
        "print(consec_ints)\n"
      ]
    },
    {
      "cell_type": "markdown",
      "metadata": {
        "id": "EkBCgCrN_BHI"
      },
      "source": [
        "**Question 7** 10pts\n",
        "\n",
        "Write a small program that does the following:\n",
        "\n",
        "1) Asks the user \"What's your name? \" and stores it into a variable called name.  \n",
        "2) Asks the user \"Where are you from? \" and stores it into a variable called origin.  \n",
        "3) Prints out a text message saying \"Hi (name), I've never been to (origin). I bet it's a great place!\"  "
      ]
    },
    {
      "cell_type": "markdown",
      "metadata": {
        "id": "mtfO-6dW_BHI"
      },
      "source": [
        "**Question 8** 10pts\n",
        "\n",
        "Write a small program that does the following:\n",
        "\n",
        "1) Asks the user \"What's your favorite food? \" and stores it into a variable called food.    \n",
        "2) Prints their favorite food in lowercase.  \n",
        "3) Prints their favorite food in uppercase.  "
      ]
    },
    {
      "cell_type": "code",
      "execution_count": 50,
      "metadata": {
        "id": "NlVbHFiT_BHI",
        "colab": {
          "base_uri": "https://localhost:8080/"
        },
        "outputId": "2c534693-bfc0-447c-fc75-38d1e3997518"
      },
      "outputs": [
        {
          "output_type": "stream",
          "name": "stdout",
          "text": [
            "What's your name?anusha\n",
            "Where are you from?surat\n",
            "Hi anusha ,I've never been to surat . I bet it's a great place!\n",
            "What's your favourite foodpasta\n",
            "pasta\n",
            "PASTA\n"
          ]
        }
      ],
      "source": [
        "#question 7\n",
        "name = input(\"What's your name?\")\n",
        "origin = input(\"Where are you from?\")\n",
        "print(\"Hi\",name,\",I've never been to\",origin,\". I bet it's a great place!\")\n",
        "\n",
        "#question 8\n",
        "\n",
        "food = input(\"What's your favourite food\")\n",
        "print (food.lower())\n",
        "print (food.upper())\n"
      ]
    },
    {
      "cell_type": "markdown",
      "metadata": {
        "id": "WcwFAFll_BHI"
      },
      "source": [
        "**Question 9** 10pts  \n",
        "\n",
        "You are given the string s = 'When life gives you lemons, make lemonade'.  \n",
        "\n",
        "Write a small program that does the following:  \n",
        "\n",
        "1)  Grab the last letter/character      \n",
        "2)  Grab everything but the last letter  \n",
        "3)  Grab everything, but go in steps of size 1  \n",
        "4)  Grab everything, but go in steps of size 2  \n",
        "5)  Use a method to split the string on every 'o' character  "
      ]
    },
    {
      "cell_type": "code",
      "execution_count": 72,
      "metadata": {
        "id": "goWl52pj_BHI",
        "colab": {
          "base_uri": "https://localhost:8080/"
        },
        "outputId": "d72af67a-471c-41dc-e37f-ba5518872a62"
      },
      "outputs": [
        {
          "output_type": "execute_result",
          "data": {
            "text/plain": [
              "['When life gives y', 'u lem', 'ns, make lem', 'nade']"
            ]
          },
          "metadata": {},
          "execution_count": 72
        }
      ],
      "source": [
        "s = 'When life gives you lemons, make lemonade'\n",
        "s[-1]\n",
        "s[:-1]\n",
        "s[::1]\n",
        "s[::2]\n",
        "s.split('o')\n",
        "\n"
      ]
    },
    {
      "cell_type": "markdown",
      "metadata": {
        "id": "sTqOvdJS_BHJ"
      },
      "source": [
        "**Question 10** 5pts  \n",
        "\n",
        "You are given a piece of a poem:  \n",
        "\n",
        "Rough winds do shake the darling buds of May,  \n",
        "And summer’s lease hath all too short a date.  \n",
        "\n",
        "Save it as a string and:\n",
        "\n",
        "1) Use \\n to print a new line and\n",
        "2) Use \\ to use an apostrophe while using single quotes for the string  \n",
        "\n",
        "When you print the string your goal is to see two lines as shown above."
      ]
    },
    {
      "cell_type": "code",
      "execution_count": 74,
      "metadata": {
        "id": "eatNjogK_BHJ",
        "colab": {
          "base_uri": "https://localhost:8080/"
        },
        "outputId": "0617414a-8d32-46ca-93b3-a2d7a0b75035"
      },
      "outputs": [
        {
          "output_type": "stream",
          "name": "stdout",
          "text": [
            "Rough winds do shake the darling buds of May,\n",
            "And summer's lease hath all too short a date.\n"
          ]
        }
      ],
      "source": [
        "s = 'Rough winds do shake the darling buds of May,\\nAnd summer\\'s lease hath all too short a date.'\n",
        "print(s)"
      ]
    },
    {
      "cell_type": "markdown",
      "metadata": {
        "id": "ETUXSA5q_BHJ"
      },
      "source": [
        "**Question 11** 7 points\n",
        "\n",
        "Create a list with your favorite 3 numbers as entries in it. Name it best_numbers.\n",
        "\n",
        "Create a list with your favorite 3 colors as entries in it. Name it best_colors.\n",
        "\n",
        "Create a new list that concatenates those 2.  Name it best_numbers_and_colors. Print the list.\n",
        "\n",
        "Create a new list that repeats the entries of best_numbers_and_colors 5 times. Name it rep_list. Print the list\n",
        "\n",
        "Add your name as an entry to the end of rep_list. Print the list.\n",
        "\n",
        "Add the list [17,18,19] to the 8th position in the list. Print the list. Note here that 17, 18, and 19 should be inside of a nested list inside of double_list.\n",
        "\n",
        "Print that 18 by referencing where the [17,18,19] is inside of the list, and where the 18 is inside of [17,18,19]."
      ]
    },
    {
      "cell_type": "code",
      "execution_count": 79,
      "metadata": {
        "id": "ioQtPJiG_BHJ",
        "colab": {
          "base_uri": "https://localhost:8080/"
        },
        "outputId": "124c74f9-de1e-47c9-963f-4cdda56a6d38"
      },
      "outputs": [
        {
          "output_type": "stream",
          "name": "stdout",
          "text": [
            "['3', '6', '14', 'red', 'white', 'beige']\n",
            "['3', '6', '14', 'red', 'white', 'beige', '3', '6', '14', 'red', 'white', 'beige', '3', '6', '14', 'red', 'white', 'beige', '3', '6', '14', 'red', 'white', 'beige', '3', '6', '14', 'red', 'white', 'beige']\n",
            "['3', '6', '14', 'red', 'white', 'beige', '3', '6', '14', 'red', 'white', 'beige', '3', '6', '14', 'red', 'white', 'beige', '3', '6', '14', 'red', 'white', 'beige', '3', '6', '14', 'red', 'white', 'beige', 'Anusha']\n",
            "['3', '6', '14', 'red', 'white', 'beige', '3', '6', [17, 18, 19], 'red', 'white', 'beige', '3', '6', '14', 'red', 'white', 'beige', '3', '6', '14', 'red', 'white', 'beige', '3', '6', '14', 'red', 'white', 'beige', 'Anusha']\n"
          ]
        },
        {
          "output_type": "execute_result",
          "data": {
            "text/plain": [
              "18"
            ]
          },
          "metadata": {},
          "execution_count": 79
        }
      ],
      "source": [
        "best_numbers = [\"3\",\"6\",\"14\"]\n",
        "best_colors = [\"red\",\"white\",\"beige\"]\n",
        "best_numers_and_colors = best_numbers + best_colors\n",
        "print (best_numers_and_colors)\n",
        "rep_list = best_numers_and_colors * 5\n",
        "print (rep_list)\n",
        "rep_list.append(\"Anusha\")\n",
        "print (rep_list)\n",
        "rep_list[8] =  [17,18,19]\n",
        "print (rep_list)\n",
        "rep_list[8][1]"
      ]
    },
    {
      "cell_type": "code",
      "execution_count": null,
      "metadata": {
        "id": "A9B6xTfD_BHJ"
      },
      "outputs": [],
      "source": []
    }
  ],
  "metadata": {
    "kernelspec": {
      "display_name": "Python 3 (ipykernel)",
      "language": "python",
      "name": "python3"
    },
    "language_info": {
      "codemirror_mode": {
        "name": "ipython",
        "version": 3
      },
      "file_extension": ".py",
      "mimetype": "text/x-python",
      "name": "python",
      "nbconvert_exporter": "python",
      "pygments_lexer": "ipython3",
      "version": "3.7.13"
    },
    "toc": {
      "colors": {
        "hover_highlight": "#DAA520",
        "navigate_num": "#000000",
        "navigate_text": "#333333",
        "running_highlight": "#FF0000",
        "selected_highlight": "#FFD700",
        "sidebar_border": "#EEEEEE",
        "wrapper_background": "#FFFFFF"
      },
      "moveMenuLeft": true,
      "nav_menu": {
        "height": "12px",
        "width": "252px"
      },
      "navigate_menu": true,
      "number_sections": true,
      "sideBar": true,
      "skip_h1_title": false,
      "threshold": 4,
      "toc_cell": false,
      "toc_position": {},
      "toc_section_display": "block",
      "toc_window_display": false,
      "widenNotebook": false
    },
    "colab": {
      "provenance": []
    }
  },
  "nbformat": 4,
  "nbformat_minor": 0
}