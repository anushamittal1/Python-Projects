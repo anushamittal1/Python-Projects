{
  "cells": [
    {
      "cell_type": "markdown",
      "metadata": {
        "id": "SHLK9zPPYq4j"
      },
      "source": [
        "# <p style=\"text-align: center;\">Assignment 2a</p>\n",
        "## <p style=\"text-align: center;\">Total points: 100</p>\n"
      ]
    },
    {
      "cell_type": "markdown",
      "metadata": {
        "id": "eILUkAxNYq4n"
      },
      "source": [
        "**Question 1**    10pts  \n",
        "\n",
        " Having in mind the table below write an example for each operator in a different cell that evaluates to True when you execute it.\n"
      ]
    },
    {
      "cell_type": "markdown",
      "metadata": {
        "id": "OnLIhnCVYq4o"
      },
      "source": [
        "\n",
        "\n",
        "<table class=\"table table-bordered\">\n",
        "<tr>\n",
        "<th style=\"width:10%\">Operator</th><th style=\"width:45%\">Description</th><th>Example</th>\n",
        "</tr>\n",
        "<tr>\n",
        "<td>==</td>\n",
        "<td>If the values of two operands are equal, then the condition becomes true.</td>\n",
        "<td> (a == b) is not true.</td>\n",
        "</tr>\n",
        "<tr>\n",
        "<td>!=</td>\n",
        "<td>If values of two operands are not equal, then condition becomes true.</td>\n",
        "<td> (a != b) is true.</td>\n",
        "</tr>\n",
        "<tr>\n",
        "<td>&gt;</td>\n",
        "<td>If the value of left operand is greater than the value of right operand, then condition becomes true.</td>\n",
        "<td> (a &gt; b) is not true.</td>\n",
        "</tr>\n",
        "<tr>\n",
        "<td>&lt;</td>\n",
        "<td>If the value of left operand is less than the value of right operand, then condition becomes true.</td>\n",
        "<td> (a &lt; b) is true.</td>\n",
        "</tr>\n",
        "<tr>\n",
        "<td>&gt;=</td>\n",
        "<td>If the value of left operand is greater than or equal to the value of right operand, then condition becomes true.</td>\n",
        "<td> (a &gt;= b) is not true. </td>\n",
        "</tr>\n",
        "<tr>\n",
        "<td>&lt;=</td>\n",
        "<td>If the value of left operand is less than or equal to the value of right operand, then condition becomes true.</td>\n",
        "<td> (a &lt;= b) is true. </td>\n",
        "</tr>\n",
        "</table>"
      ]
    },
    {
      "cell_type": "code",
      "execution_count": null,
      "metadata": {
        "colab": {
          "base_uri": "https://localhost:8080/"
        },
        "id": "RTxEXmOAYq4p",
        "outputId": "c4410ff6-3f85-4957-f9e8-64bf40e9a7f1"
      },
      "outputs": [
        {
          "output_type": "execute_result",
          "data": {
            "text/plain": [
              "True"
            ]
          },
          "metadata": {},
          "execution_count": 1
        }
      ],
      "source": [
        "4 == 4"
      ]
    },
    {
      "cell_type": "code",
      "source": [
        "8 != 2"
      ],
      "metadata": {
        "colab": {
          "base_uri": "https://localhost:8080/"
        },
        "id": "x7QqhzXhZB64",
        "outputId": "7903cf5a-8c5a-43f0-c2f0-350edfcace00"
      },
      "execution_count": null,
      "outputs": [
        {
          "output_type": "execute_result",
          "data": {
            "text/plain": [
              "True"
            ]
          },
          "metadata": {},
          "execution_count": 2
        }
      ]
    },
    {
      "cell_type": "code",
      "source": [
        "5 > 1"
      ],
      "metadata": {
        "colab": {
          "base_uri": "https://localhost:8080/"
        },
        "id": "MDovQa-5ZCE2",
        "outputId": "bb8c7072-9aa9-4080-aa93-b2fb027ae913"
      },
      "execution_count": null,
      "outputs": [
        {
          "output_type": "execute_result",
          "data": {
            "text/plain": [
              "True"
            ]
          },
          "metadata": {},
          "execution_count": 3
        }
      ]
    },
    {
      "cell_type": "code",
      "source": [
        "3 < 6"
      ],
      "metadata": {
        "colab": {
          "base_uri": "https://localhost:8080/"
        },
        "id": "c23o70ViZCKu",
        "outputId": "223e0f6a-069b-4eeb-9ce8-a28da9c9d096"
      },
      "execution_count": null,
      "outputs": [
        {
          "output_type": "execute_result",
          "data": {
            "text/plain": [
              "True"
            ]
          },
          "metadata": {},
          "execution_count": 7
        }
      ]
    },
    {
      "cell_type": "code",
      "source": [
        "5 >= 5"
      ],
      "metadata": {
        "colab": {
          "base_uri": "https://localhost:8080/"
        },
        "id": "aUAYKQA1ZCPx",
        "outputId": "e95bd13f-e4ba-4b8c-cd03-dfb3506ec641"
      },
      "execution_count": null,
      "outputs": [
        {
          "output_type": "execute_result",
          "data": {
            "text/plain": [
              "True"
            ]
          },
          "metadata": {},
          "execution_count": 5
        }
      ]
    },
    {
      "cell_type": "code",
      "source": [
        "3 <= 6"
      ],
      "metadata": {
        "colab": {
          "base_uri": "https://localhost:8080/"
        },
        "id": "4QU9y7wHZCWE",
        "outputId": "2f699070-01a8-4ebf-bcf3-e1467f152db5"
      },
      "execution_count": null,
      "outputs": [
        {
          "output_type": "execute_result",
          "data": {
            "text/plain": [
              "True"
            ]
          },
          "metadata": {},
          "execution_count": 6
        }
      ]
    },
    {
      "cell_type": "markdown",
      "metadata": {
        "id": "sfXmZGsmYq4p"
      },
      "source": [
        "**Question 2**    5pts  \n",
        "\n",
        "Use range( ) to print all numbers from 3 to 13.\n",
        "\n",
        "\n"
      ]
    },
    {
      "cell_type": "code",
      "execution_count": null,
      "metadata": {
        "colab": {
          "base_uri": "https://localhost:8080/"
        },
        "id": "X3B1GlPWYq4q",
        "outputId": "b97fc396-cc1d-4f6a-97c8-7ed09fe7f73a"
      },
      "outputs": [
        {
          "output_type": "stream",
          "name": "stdout",
          "text": [
            "3\n",
            "4\n",
            "5\n",
            "6\n",
            "7\n",
            "8\n",
            "9\n",
            "10\n",
            "11\n",
            "12\n",
            "13\n"
          ]
        }
      ],
      "source": [
        "for num in range(3,14):\n",
        "  print (num)"
      ]
    },
    {
      "cell_type": "markdown",
      "metadata": {
        "id": "pHzUY45sYq4q"
      },
      "source": [
        "**Question 3**  10pts\n",
        "\n",
        "Write a program that will create a list of all numbers between 1 and 50 that are divisible by 7.  \n",
        "Print the list at the end.\n",
        "\n",
        "\n",
        "\n"
      ]
    },
    {
      "cell_type": "code",
      "execution_count": 1,
      "metadata": {
        "colab": {
          "base_uri": "https://localhost:8080/"
        },
        "id": "obUPDvpeYq4q",
        "outputId": "5392417f-2ceb-4ac1-8d60-c6b1c1b24ada"
      },
      "outputs": [
        {
          "output_type": "execute_result",
          "data": {
            "text/plain": [
              "[7, 14, 21, 28, 35, 42, 49]"
            ]
          },
          "metadata": {},
          "execution_count": 1
        }
      ],
      "source": [
        "ans = []\n",
        "\n",
        "for n in range(1,51):\n",
        "  if n % 7 == 0:\n",
        "    ans.append(n)\n",
        "\n",
        "ans"
      ]
    },
    {
      "cell_type": "markdown",
      "metadata": {
        "id": "be2dpSygYq4q"
      },
      "source": [
        "**Question 4** 5pts  \n",
        "\n",
        "Print out only the odd numbers of the following list."
      ]
    },
    {
      "cell_type": "code",
      "execution_count": 2,
      "metadata": {
        "colab": {
          "base_uri": "https://localhost:8080/"
        },
        "id": "cBZOGLG5Yq4r",
        "outputId": "35681ad2-6f62-4b92-f72f-f4d0eb035f28"
      },
      "outputs": [
        {
          "output_type": "stream",
          "name": "stdout",
          "text": [
            "1\n",
            "3\n",
            "5\n",
            "7\n",
            "9\n"
          ]
        }
      ],
      "source": [
        "mylist = [1,2,3,4,5,6,7,8,9,10]\n",
        "\n",
        "for num in mylist:\n",
        "  if num % 2 == 1:\n",
        "    print(num)\n",
        "\n"
      ]
    },
    {
      "cell_type": "markdown",
      "metadata": {
        "id": "cJe3rRA1Yq4s"
      },
      "source": [
        "**Question 5a**  10pts  \n",
        "\n",
        "Write a program that checks if x is a perfect square.   \n",
        "If yes, print '(insert x here) is a perfect square'  \n",
        "If no, print '(insert x here) is not a perfect square'  \n",
        "  \n",
        "Hint:If a number is a perfect square, it's square root will be an integer. For example $\\sqrt25 = 5$, while $\\sqrt20 = 4.47$  \n",
        "\n",
        "Observe that: float($\\sqrt25$) = int($\\sqrt25$)= $5$ while  \n",
        "              float($\\sqrt20$) = $4.47$ is not the same as int($\\sqrt20$) = $4$  \n",
        "\n",
        "So, a logical check that you could use in your program is to check if the float of the square root of x is the same as the integer of the square root of x.\n",
        "\n",
        "\n",
        "Attention : You can use either ** for calculating the square root or you can use the sqrt function inside the math package:  \n",
        "\n",
        "import math\n",
        "\n",
        "math.sqrt(25)"
      ]
    },
    {
      "cell_type": "code",
      "execution_count": 10,
      "metadata": {
        "id": "OjmHspyJYq4s",
        "colab": {
          "base_uri": "https://localhost:8080/"
        },
        "outputId": "03ea112d-ef6c-41a7-ee79-9d343b296c62"
      },
      "outputs": [
        {
          "output_type": "stream",
          "name": "stdout",
          "text": [
            "23 is not a perfect square\n"
          ]
        }
      ],
      "source": [
        "import math\n",
        "\n",
        "def check_sqrt(x):\n",
        "  if float(math.sqrt(x)) == int(math.sqrt(x)):\n",
        "    print (x, \"is a perfect square\")\n",
        "  else:\n",
        "    print (x, \"is not a perfect square\")\n",
        "\n",
        "check_sqrt(23)\n"
      ]
    },
    {
      "cell_type": "markdown",
      "metadata": {
        "id": "nAfJkvUGYq4s"
      },
      "source": [
        "**Question 5b** 5pts  \n",
        "\n",
        "Building on the program you wrote before, write a similar program that takes a given list of numbers (mylist) and print's out only the ones that are perfect squares.\n",
        "\n",
        "For example for the list mylist = [2,4,6,9,12,23,25] you should get:\n",
        "\n",
        "4\n",
        "\n",
        "9\n",
        "\n",
        "25    "
      ]
    },
    {
      "cell_type": "code",
      "execution_count": 13,
      "metadata": {
        "id": "KAZyUQXoYq4s",
        "colab": {
          "base_uri": "https://localhost:8080/"
        },
        "outputId": "95e41c0e-d68d-4124-e7ee-00076c60f37c"
      },
      "outputs": [
        {
          "output_type": "stream",
          "name": "stdout",
          "text": [
            "4\n",
            "9\n",
            "25\n"
          ]
        }
      ],
      "source": [
        "mylist = [2,4,6,9,12,23,25]\n",
        "\n",
        "for x in mylist:\n",
        "  if float(math.sqrt(x)) == int(math.sqrt(x)):\n",
        "    print (x)\n",
        "\n",
        "\n"
      ]
    },
    {
      "cell_type": "markdown",
      "metadata": {
        "id": "XVfzg2jcYq4t"
      },
      "source": [
        "**Question 6** 15pts\n",
        "\n",
        "Write a program that does the following:  \n",
        "\n",
        "1) Asks the user to input their age  \n",
        "2) In case the user is older or equal than 21, they get back a message saying 'At this age you can drive,vote, and drink'.  \n",
        "3) In case the user is olderor equal than 18 but less than 21, they get back a message saying 'At this age you can drive and vote, but not drink'.  \n",
        "4) In case the user is olderor equal than 16 but less than 18, they get back a message saying 'At least you can drive now!'  \n",
        "5) In case that the user is younger than 16, they get back a message saying 'In (insert here a number) years you'll be able to drive\".  "
      ]
    },
    {
      "cell_type": "code",
      "execution_count": 19,
      "metadata": {
        "id": "ACnK-XuJYq4t",
        "colab": {
          "base_uri": "https://localhost:8080/"
        },
        "outputId": "85550821-8406-4111-e81c-d2b3aa980207"
      },
      "outputs": [
        {
          "output_type": "stream",
          "name": "stdout",
          "text": [
            "What is your age?14\n",
            "In 2 years you'll be able to drive\n"
          ]
        }
      ],
      "source": [
        "age = int(input(\"What is your age?\"))\n",
        "\n",
        "if age >= 21:\n",
        "  print (\"At this age you can drive,vote, and drink\")\n",
        "elif age >= 18:\n",
        "  print (\"At this age you can drive and vote, but not drink\")\n",
        "elif age >= 16:\n",
        "  print (\"At least you can drive now!\")\n",
        "else:\n",
        "  n = 16 - age\n",
        "  print(\"In\",n,\"years you'll be able to drive\")\n"
      ]
    },
    {
      "cell_type": "markdown",
      "metadata": {
        "id": "4LgGL5SaYq4t"
      },
      "source": [
        "**Question 7** 5pts\n",
        "\n",
        "Count the number of $l$'s in your full name (Create a variable called name and set it equal to a string that contains your first, middle and last name).\n"
      ]
    },
    {
      "cell_type": "code",
      "execution_count": 21,
      "metadata": {
        "id": "IAw4AGMCYq4t",
        "colab": {
          "base_uri": "https://localhost:8080/"
        },
        "outputId": "970f44f6-5787-4f33-b316-a2174b33b20c"
      },
      "outputs": [
        {
          "output_type": "stream",
          "name": "stdout",
          "text": [
            "1\n"
          ]
        }
      ],
      "source": [
        "name = \"Anusha M Mittal\"\n",
        "count = 0\n",
        "if \"l\" in name:\n",
        "  count += 1\n",
        "\n",
        "print (count)"
      ]
    },
    {
      "cell_type": "markdown",
      "metadata": {
        "id": "VfFOxeHhYq4u"
      },
      "source": [
        "**Question 8** 10pts\n",
        "\n",
        "word = 'Mozzarella'   \n",
        "\n",
        "Write a program that with each iteration removes the last word and prints the outcome.  \n",
        "You should be able to get this:\n",
        "\n",
        "Mozzarella  \n",
        "Mozzarell  \n",
        "Mozzarel  \n",
        "Mozzare  \n",
        "Mozzar  \n",
        "Mozza  \n",
        "Mozz  \n",
        "Moz  \n",
        "Mo  \n",
        "M  \n"
      ]
    },
    {
      "cell_type": "code",
      "execution_count": 46,
      "metadata": {
        "id": "gVhX1wn3Yq4u",
        "colab": {
          "base_uri": "https://localhost:8080/"
        },
        "outputId": "1465bed0-26b9-49df-dc0e-5b0da1565deb"
      },
      "outputs": [
        {
          "output_type": "stream",
          "name": "stdout",
          "text": [
            "Mozzarella\n",
            "Mozzarell\n",
            "Mozzarel\n",
            "Mozzare\n",
            "Mozzar\n",
            "Mozza\n",
            "Mozz\n",
            "Moz\n",
            "Mo\n",
            "M\n"
          ]
        }
      ],
      "source": [
        "word = 'Mozzarella'\n",
        "x = 0\n",
        "\n",
        "\n",
        "for i in range(len(word), 0, -1):\n",
        "    print(word[:i])\n",
        ""
      ]
    },
    {
      "cell_type": "markdown",
      "metadata": {
        "id": "DOazHtsYYq4u"
      },
      "source": [
        "**Question 9**    25pts  \n",
        "\n",
        "Write a program that does the following:\n",
        "1) Prints : \"Welcome! Please enter a color when prompted, and you will see it printed. When you would like to stop, instead of a color enter STOP.\"  \n",
        "\n",
        "2) Prompts the user to write a color until the user enters STOP.   \n",
        "3) Print the phrase: 'You picked (insert the color that the user picked in uppercase letters)!'  \n",
        "4) When the user is done and enters STOP, print: \"Bye!The colors you entered were: [color1 in upoercase, collor2 in uppercase,....,last color (before STOP) in uppercase] \"  \n",
        "5) Assume that the user will only enter valid colors and STOP as input. If they enter accidentaly 'applepie', then the program will treat it a color and will print: You picked APPPLEPIE!, as well as include it in the list of colors at the end.  \n",
        "6) Remember that the final user input STOP will not appear in the list of colors in the end.\n",
        "\n",
        "### Example:   \n",
        "\n",
        "Computer: Welcome! Please enter a color when prompted, and you will see it printed. When you would like to stop, instead of a color enter STOP.    \n",
        "\n",
        "Computer: Please enter a color of your choice:\n",
        "\n",
        "User: red  \n",
        "\n",
        "Computer: You picked RED!  \n",
        "\n",
        "Computer: Please enter a color of your choice:\n",
        "\n",
        "User: Green  \n",
        "\n",
        "Computer: You picked GREEN!  \n",
        "\n",
        "Computer: Please enter a color of your choice:\n",
        "\n",
        "User: STOP  \n",
        "\n",
        "Computer: Bye! The colors you entered were: ['RED','GREEN']  \n",
        "\n",
        "\n",
        "\n",
        "\n",
        "\n",
        "\n",
        "\n",
        "\n",
        "\n"
      ]
    },
    {
      "cell_type": "code",
      "execution_count": 57,
      "metadata": {
        "id": "a4lti4gQYq4u",
        "colab": {
          "base_uri": "https://localhost:8080/"
        },
        "outputId": "2ba81182-28b9-4e72-f062-c38cb9f9989d"
      },
      "outputs": [
        {
          "output_type": "stream",
          "name": "stdout",
          "text": [
            "Welcome! Please enter a color when prompted, and you will see it printed. When you would like to stop, instead of a color enter STOP.\n",
            "Please enter a color of your choice: green\n",
            "You picked GREEN !\n",
            "Please enter a color of your choice: anush\n",
            "You picked ANUSH !\n",
            "Please enter a color of your choice: stop\n",
            "Bye! The colors you entered were: ['GREEN', 'ANUSH']\n"
          ]
        }
      ],
      "source": [
        "from builtins import input\n",
        "\n",
        "print(\"Welcome! Please enter a color when prompted, and you will see it printed. When you would like to stop, instead of a color enter STOP.\")\n",
        "\n",
        "colors = []\n",
        "\n",
        "while True:\n",
        "\n",
        "  color = input(\"Please enter a color of your choice: \")\n",
        "  if color.upper() == \"STOP\":\n",
        "    break\n",
        "  print(\"You picked\",color.upper(),\"!\")\n",
        "  colors.append(color.upper())\n",
        "\n",
        "print(\"Bye! The colors you entered were:\", colors)\n"
      ]
    },
    {
      "cell_type": "code",
      "source": [],
      "metadata": {
        "colab": {
          "base_uri": "https://localhost:8080/",
          "height": 224
        },
        "id": "fJz0b_3qwtGG",
        "outputId": "6e66b8a8-9146-456e-d259-86ea87a97cbc"
      },
      "execution_count": 53,
      "outputs": [
        {
          "output_type": "stream",
          "name": "stdout",
          "text": [
            "Welcome! Please enter a color when prompted, and you will see it printed. When you would like to stop, instead of a color enter STOP.\n"
          ]
        },
        {
          "output_type": "error",
          "ename": "TypeError",
          "evalue": "'str' object is not callable",
          "traceback": [
            "\u001b[0;31m---------------------------------------------------------------------------\u001b[0m",
            "\u001b[0;31mTypeError\u001b[0m                                 Traceback (most recent call last)",
            "\u001b[0;32m<ipython-input-53-9f79bee476a4>\u001b[0m in \u001b[0;36m<cell line: 5>\u001b[0;34m()\u001b[0m\n\u001b[1;32m      4\u001b[0m \u001b[0;34m\u001b[0m\u001b[0m\n\u001b[1;32m      5\u001b[0m \u001b[0;32mwhile\u001b[0m \u001b[0;32mTrue\u001b[0m\u001b[0;34m:\u001b[0m\u001b[0;34m\u001b[0m\u001b[0;34m\u001b[0m\u001b[0m\n\u001b[0;32m----> 6\u001b[0;31m     \u001b[0mcolor\u001b[0m \u001b[0;34m=\u001b[0m \u001b[0minput\u001b[0m\u001b[0;34m(\u001b[0m\u001b[0;34m\"Please enter a color of your choice: \"\u001b[0m\u001b[0;34m)\u001b[0m  \u001b[0;31m# Use a different variable name instead of input\u001b[0m\u001b[0;34m\u001b[0m\u001b[0;34m\u001b[0m\u001b[0m\n\u001b[0m\u001b[1;32m      7\u001b[0m     \u001b[0;32mif\u001b[0m \u001b[0mcolor\u001b[0m\u001b[0;34m.\u001b[0m\u001b[0mupper\u001b[0m\u001b[0;34m(\u001b[0m\u001b[0;34m)\u001b[0m \u001b[0;34m==\u001b[0m \u001b[0;34m\"STOP\"\u001b[0m\u001b[0;34m:\u001b[0m\u001b[0;34m\u001b[0m\u001b[0;34m\u001b[0m\u001b[0m\n\u001b[1;32m      8\u001b[0m         \u001b[0;32mbreak\u001b[0m\u001b[0;34m\u001b[0m\u001b[0;34m\u001b[0m\u001b[0m\n",
            "\u001b[0;31mTypeError\u001b[0m: 'str' object is not callable"
          ]
        }
      ]
    }
  ],
  "metadata": {
    "kernelspec": {
      "display_name": "Python 3 (ipykernel)",
      "language": "python",
      "name": "python3"
    },
    "language_info": {
      "codemirror_mode": {
        "name": "ipython",
        "version": 3
      },
      "file_extension": ".py",
      "mimetype": "text/x-python",
      "name": "python",
      "nbconvert_exporter": "python",
      "pygments_lexer": "ipython3",
      "version": "3.10.9"
    },
    "colab": {
      "provenance": []
    }
  },
  "nbformat": 4,
  "nbformat_minor": 0
}