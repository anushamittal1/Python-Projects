{
 "cells": [
  {
   "cell_type": "markdown",
   "id": "47ea5e82",
   "metadata": {},
   "source": [
    "# **Practice**"
   ]
  },
  {
   "cell_type": "markdown",
   "id": "84b610ff",
   "metadata": {},
   "source": [
    "Go look up 15 words (not numbers) in any other language besides English.  Create a dictionary with those 15 english to other language translations. Print that dictionary."
   ]
  },
  {
   "cell_type": "code",
   "execution_count": null,
   "id": "589ed9db",
   "metadata": {},
   "outputs": [],
   "source": []
  },
  {
   "cell_type": "code",
   "execution_count": null,
   "id": "6d657ae9",
   "metadata": {},
   "outputs": [],
   "source": []
  },
  {
   "cell_type": "markdown",
   "id": "d20c6496",
   "metadata": {},
   "source": [
    "Create a tuple of the unit conversion factors from pounds to kilograms, feet to meters, and seconds to hours.\n",
    "\n",
    "A 200 pounds tiger is 7 feet long and spends 5000 seconds hiding in the grass before attacking a deer.\n",
    "\n",
    "Create a list of those three numbers, then loop through them (using range) to create a new list (using list comprehension) to convert them to the other unit.\n",
    "\n",
    "Now print the equivalent sentence about the tiger using the other unit numbers, and use % to format the string."
   ]
  },
  {
   "cell_type": "code",
   "execution_count": null,
   "id": "633288c1",
   "metadata": {},
   "outputs": [],
   "source": []
  },
  {
   "cell_type": "markdown",
   "id": "8d98920d",
   "metadata": {},
   "source": [
    "Take the plot description of the Wizard of Oz from class.  Create a list that has the number of words in each paragraph (HINT: What separates paragraphs?) using list comprehension.\n",
    "\n",
    "Now create a dictionary where the keys are the paragraph text, and the values are the word counts in the respective paragraphs."
   ]
  },
  {
   "cell_type": "code",
   "execution_count": null,
   "id": "cb352ce3",
   "metadata": {},
   "outputs": [],
   "source": []
  }
 ],
 "metadata": {
  "kernelspec": {
   "display_name": "Python 3 (ipykernel)",
   "language": "python",
   "name": "python3"
  },
  "language_info": {
   "codemirror_mode": {
    "name": "ipython",
    "version": 3
   },
   "file_extension": ".py",
   "mimetype": "text/x-python",
   "name": "python",
   "nbconvert_exporter": "python",
   "pygments_lexer": "ipython3",
   "version": "3.10.9"
  }
 },
 "nbformat": 4,
 "nbformat_minor": 5
}
